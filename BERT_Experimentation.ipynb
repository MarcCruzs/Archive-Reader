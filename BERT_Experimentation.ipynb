{
 "cells": [
  {
   "cell_type": "code",
   "execution_count": 45,
   "id": "974edbba-7397-47de-a925-d7020c2ecf22",
   "metadata": {},
   "outputs": [],
   "source": [
    "from transformers import BertTokenizerFast, BertForQuestionAnswering\n",
    "import torch\n",
    "from torch.utils.data import DataLoader, TensorDataset\n",
    "from DataGeneration import DataGeneration  # Importing the DataGeneration package"
   ]
  },
  {
   "cell_type": "code",
   "execution_count": 46,
   "id": "895c9aa3-f33a-445b-839e-c8149969c162",
   "metadata": {},
   "outputs": [
    {
     "name": "stderr",
     "output_type": "stream",
     "text": [
      "Some weights of BertForQuestionAnswering were not initialized from the model checkpoint at bert-base-uncased and are newly initialized: ['qa_outputs.bias', 'qa_outputs.weight']\n",
      "You should probably TRAIN this model on a down-stream task to be able to use it for predictions and inference.\n",
      "[nltk_data] Downloading package punkt to\n",
      "[nltk_data]     C:\\Users\\MarC\\AppData\\Roaming\\nltk_data...\n",
      "[nltk_data]   Package punkt is already up-to-date!\n",
      "[nltk_data] Downloading package wordnet to\n",
      "[nltk_data]     C:\\Users\\MarC\\AppData\\Roaming\\nltk_data...\n",
      "[nltk_data]   Package wordnet is already up-to-date!\n",
      "[nltk_data] Downloading package stopwords to\n",
      "[nltk_data]     C:\\Users\\MarC\\AppData\\Roaming\\nltk_data...\n",
      "[nltk_data]   Package stopwords is already up-to-date!\n"
     ]
    }
   ],
   "source": [
    "# Load tokenizer and pre-trained BERT model\n",
    "tokenizer = BertTokenizerFast.from_pretrained('bert-base-uncased')\n",
    "model = BertForQuestionAnswering.from_pretrained('bert-base-uncased')\n",
    "\n",
    "# Instantiate DataGeneration class\n",
    "data_generator = DataGeneration()\n",
    "\n",
    "# Generate data\n",
    "raw_data_file = \"raw_datasets\\SUAS-Competition-FALL2023-Final-Report.txt\"\n",
    "train_contexts, train_questions, train_answers = data_generator.generate_data(raw_data_file)"
   ]
  },
  {
   "cell_type": "code",
   "execution_count": 47,
   "id": "45a08f2b-c0ab-46c3-bbc8-0b421b28e7e8",
   "metadata": {},
   "outputs": [
    {
     "name": "stdout",
     "output_type": "stream",
     "text": [
      "['suas competition software team fall 2023 final report authors marc cruz abdul kalam syed max gross joshua estrada jason mar josh ng ethan tarrer sarkis gafayan rubayet mujahid david jackson status done date sep 21 2023 relative links suas competition software team overview suas competition technical design document suas competition machine learning models 1. introduction two 2. fall 2023 progress three 2.1 timeline three 2.2 recruitment august september four 2.3 learning phase august october four 2.3.1 odlc four 2.3.2 obstacle avoidance five 2.4 odlc design five 2.5 hardware trade studies seven 2.5.1 odlc trade studies seven 2.5.1.1 obc trade study seven 2.5.1.1 camera trade study eight 2.5.2 obstacle avoidance trade study nine 2.6 data collection dataset phase october december ten 2.6.1 standardized object shape ml model ten 2.6.2 standardized object shape alphanumeric color ml model twelve 2.6.3 standardized object alphanumeric ml model thirteen 2.7 modeling phase october february thirteen 2.7.1 uav image recognition trade study decision matrix thirteen 2.7.1.1 training yolo models fifteen 3. reflectionmethod revisions seventeen 4. conclusionfuture work seventeen 5. references eighteen 1. introduction progress report software team suas 2024. document contains current progress project also adding new revisions suas 2025 software team consider increase odds cpp suas team win consistently . software team members abdul kalam syed joshua estrada josh ng jason mar max gross ethan tarrer sarkis gafafyan marc cruz 2. fall 2023 progress suas project consideration recruitment teaching actual implementation towards suas mission tasks .', 'suas student unmanned aerial systems yearly competition particular mission .', 'figure one standard object left white blue triangle emergent object right manikin dressed clothes potential shapes according competition rulebook circle semicircle quarter circle triangle rectangle pentagon star cross potential colors according competition rulebook white black red blue green purple brown orange targets detected minimum altitude 75 ft ideally within range 85 90 ft. classification target able determine localization signaling payload drop coordinates uav .', 'figure one standard object left white blue triangle emergent object right manikin dressed clothes potential shapes according competition rulebook circle semicircle quarter circle triangle rectangle pentagon star cross potential colors according competition rulebook white black red blue green purple brown orange targets detected minimum altitude 75 ft ideally within range 85 90 ft. classification target able determine localization signaling payload drop coordinates uav .', 'suas student unmanned aerial systems yearly competition particular mission . larger emphasis individuals able work project extended time 23 years solidify solid group future suas competition . marc cruz although want win competition time software lead also wanted ensure project longevity terms knowledge accumulated years competition . previous years lacked proper documentation available members transfer information current competition year .', 'looked various open source lidar implementations mits mader capable generating initial flight path creating spline followed goes around object .', '2.5.1 odlc trade studies 2.5.1.1 obc trade study obc trade study raspberry pi five coral accelerator raspberry pi four coral accelerator jetson orin nano criteria weight description grade weighted description grade weighted description grade weighted cost two 171 three six 170 three six 500 one two processing units five quadcore 64bit arm cortexa76 cpu one five cortexa72 arm v8 64bit soc 1.8ghz one five 1024core nvidia ampere architecture gpu 32 tensor cores 3.5 17.5 software support one yes 3.5 3.5 yes 3.5 3.5 yes 3.5 3.5 power consumption w three twelve two six eight three nine 1022 two six weight g one 48 3.5 3.5 47 3.5 3.5 176 two two average grade 2.6 2.8 2.4 weighted total 24 27 31 obc normalization chart grade one two three 3.5 cost 300 300 200 100 processing units reduced accuracy subpar processing subpar optimal semi optimal processing optimal processing software support software obsolescence software update date power consumption w thirteen twelve eight five weight g 200 200 100 50 2.5.1.1 camera trade study camera trade study oakd pro w poe imx378 sensor siyi zr10 rpi hq camera 6mm lens criteria weight description grade weighted description grade weighted description grade weighted cost one 599 one one 506 one one 75 3.5 3.5 weight g one 184 three three 381 one one 83.4 3.5 3.5 resolutionfps five 1080p60fps 4k30fps 3.5 17.5 2560 x 1440p30 3.5 17.5 2028 1080p50 2028 1520p40 1332 990p120 3.5 17.5 power consumption w three 2w 5.5 w three nine three w three nine 1.4 w 3.5 10.5 fov four hfov 95 vfov 70 3.5 fourteen hfovl 71.5 dfov 79.5 three twelve 63 three twelve average grade 2.8 2.3 3.4 weighted total 44.5 40.5 47 camera normalization chart grade one two three 3.5 cost 400 400 250 250 100 100 weight g 350 350 200 200 50 50 resolutionfps incapable high resolution 30 fps high resolution 30 fps power consumption w ten ten five five two two fov subpar optimal fov moderately optimal fov strongly optimal fov 2.5.2 obstacle avoidance trade study lidar trade study rplidar a2m8 livox mid40 rplidar a3 criteria weight description grade weighted description grade weighted description grade weighted cost one 319 three three 599 three three 599 three three detection range five 0.1 sixteen 3.5 17.5 260 3.5 17.5 eight two ten software support three yes 3.5 10.5 yes 3.5 10.5 yes 3.5 10.5 power consumption w four three three twelve ten one four three three twelve weight g two 190 two four 760 one two 190 two four average grade three 2.4 2.7 weighted total 47 37 39.5 lidar normalization chart grade one two three 3.5 cost 800 800 400 200 range six eight twelve twelve software support software obsolescence software update date power consumption w five four three two weight g 200 200 150 100 2.6 data collection dataset phase october december phase members focused working odlc mission task split models focused researching collecting required data specific machine learning model .', 'scripting images currently experimental work would completed winter break . shape model likely use yolo series remains determined winter break .', 'second approach creating finding rgb value dataset various rgb values labeled corresponding color .', 'mind extract rgb values shape alphanumeric two common values image . approach chose determine rgb values image move onto various methods making model . two approaches using finite range rgb values 0255 make range rgb value determines certain color . second approach creating finding rgb value dataset various rgb values labeled corresponding color . crossreferencing pixel values rgb equivalentthe color prevalent picture used determine overall color .', '2.7.1.1 training yolo models train custom dataset yolov5 need image file png jpeg .txt file contains class value xcoordinate ycoordinate center target width height target .', 'coordinates width height need normalized zero 1. way dividing xcoordinate width xmax ycoordinate height ymax xmax total width image minus one ymax total height image minus 1. image size 100 pxl x 200 pxl center bounding box xy 2677 width height bounding box wh 56 divide 26 99 five 99 well divide 77 199 six 199 well .', 'test validity synthetic dataset collected trained yolov5 custom dataset . model trained 750 training images plus 500 validation images 24000 images collected circle results promising . cause confusion matrix high possibly overfitting training model validation contain images similar . mind extract rgb values shape alphanumeric two common values image . approach chose determine rgb values image move onto various methods making model . two approaches using finite range rgb values 0255 make range rgb value determines certain color . second approach creating finding rgb value dataset various rgb values labeled corresponding color . crossreferencing pixel values rgb equivalentthe color prevalent picture used determine overall color . 2.7.1 uav image recognition trade study decision matrix methodologies study convolutional neural networks cnns faster rcnn yolo look criteria evaluation accuracy ability correctly identify classify objects . 2.7.1.1 training yolo models train custom dataset yolov5 need image file png jpeg .txt file contains class value xcoordinate ycoordinate center target width height target . class number must start zero add many empty values yaml file discuss later xcoordinate ycoordinate width height ex zero 0.815 0.777 0.0345 0.0392 phase testing make sure generate proper data used train yolo creating data training yolo next weeks . however 23000 images lot would take lot time testing purposes trained model 750 training images plus 500 validation images good time mention yolo takes data train . train yolo custom dataset need divide dataset three sections create three folders within dataset folder train val test train val mandatory test ignored good practice two subfolders images labels . train folder contain images corresponding annotations val validation folder contain less data validated every epochs number times train model training dataset lastly test contain even less data ran testing end . important note images folders different especially train val want validate trained model unique set images increase accuracy . also need yaml file contain location folder train val test addition number classes names classes . would attempt turn models tensorflow lite models equivalent form ran developer kit . nine j. redmon s. divvala r. girshick a. farhadi look unified realtime object detection proc .', 'start training need navigate yolov5 cloned folder command prompt place command python train.py imgsize 640 batchsize sixteen epochs 50 data datayour_yaml_file.yaml weights yolov5s.pt .', 'start training need navigate yolov5 cloned folder command prompt place command python train.py imgsize 640 batchsize sixteen epochs 50 data datayour_yaml_file.yaml weights yolov5s.pt .', 'scripting images currently experimental work would completed winter break . shape model likely use yolo series remains determined winter break .', 'suas competition software team fall 2023 final report authors marc cruz abdul kalam syed max gross joshua estrada jason mar josh ng ethan tarrer sarkis gafayan rubayet mujahid david jackson status done date sep 21 2023 relative links suas competition software team overview suas competition technical design document suas competition machine learning models 1. introduction two 2. fall 2023 progress three 2.1 timeline three 2.2 recruitment august september four 2.3 learning phase august october four 2.3.1 odlc four 2.3.2 obstacle avoidance five 2.4 odlc design five 2.5 hardware trade studies seven 2.5.1 odlc trade studies seven 2.5.1.1 obc trade study seven 2.5.1.1 camera trade study eight 2.5.2 obstacle avoidance trade study nine 2.6 data collection dataset phase october december ten 2.6.1 standardized object shape ml model ten 2.6.2 standardized object shape alphanumeric color ml model twelve 2.6.3 standardized object alphanumeric ml model thirteen 2.7 modeling phase october february thirteen 2.7.1 uav image recognition trade study decision matrix thirteen 2.7.1.1 training yolo models fifteen 3. reflectionmethod revisions seventeen 4. conclusionfuture work seventeen 5. references eighteen 1. introduction progress report software team suas 2024. document contains current progress project also adding new revisions suas 2025 software team consider increase odds cpp suas team win consistently . 2024 competition mission multiple package delivery companies tasked uas deliver packages customers . fix issues lack expertise future suas software members would begin recruitment spring 2024 allow new members time familiarize work capable contributing fall 2024. also reduces need recruitment next suas competition utilizes full semester work rather recruiting .']\n"
     ]
    }
   ],
   "source": [
    "print(train_contexts)"
   ]
  },
  {
   "cell_type": "code",
   "execution_count": 48,
   "id": "957bf9bd-ac9a-487a-9cfa-cc47eaf36012",
   "metadata": {},
   "outputs": [
    {
     "name": "stdout",
     "output_type": "stream",
     "text": [
      "[['What is 2023?', 'Can you provide details about 2023?', 'Explain the significance of 2023.', 'What are the properties of 2023?'], ['What is yearly?', 'Can you provide details about yearly?', 'Explain the significance of yearly.', 'What are the properties of yearly?'], ['What is semicircle?', 'Can you provide details about semicircle?', 'Explain the significance of semicircle.', 'What are the properties of semicircle?'], ['What is pentagon?', 'Can you provide details about pentagon?', 'Explain the significance of pentagon.', 'What are the properties of pentagon?'], ['What is year?', 'Can you provide details about year?', 'Explain the significance of year.', 'What are the properties of year?'], ['What is mader?', 'Can you provide details about mader?', 'Explain the significance of mader.', 'What are the properties of mader?'], ['What is v8?', 'Can you provide details about v8?', 'Explain the significance of v8.', 'What are the properties of v8?'], ['What is winter?', 'Can you provide details about winter?', 'Explain the significance of winter.', 'What are the properties of winter?'], ['What is second?', 'Can you provide details about second?', 'Explain the significance of second.', 'What are the properties of second?'], ['What is rgb?', 'Can you provide details about rgb?', 'Explain the significance of rgb.', 'What are the properties of rgb?'], ['What is jpeg?', 'Can you provide details about jpeg?', 'Explain the significance of jpeg.', 'What are the properties of jpeg?'], ['What is pxl?', 'Can you provide details about pxl?', 'Explain the significance of pxl.', 'What are the properties of pxl?'], ['What is val known for?', 'What are the contributions of val?', 'Can you provide some information about val?', 'Tell me about val.'], ['What is weights known for?', 'What are the contributions of weights?', 'Can you provide some information about weights?', 'Tell me about weights.'], ['What is yolov5s.pt known for?', 'What are the contributions of yolov5s.pt?', 'Can you provide some information about yolov5s.pt?', 'Tell me about yolov5s.pt.'], ['What is winter?', 'Can you provide details about winter?', 'Explain the significance of winter.', 'What are the properties of winter?'], ['What is 2024?', 'Can you provide details about 2024?', 'Explain the significance of 2024.', 'What are the properties of 2024?']]\n"
     ]
    }
   ],
   "source": [
    "print(train_questions)"
   ]
  },
  {
   "cell_type": "code",
   "execution_count": 49,
   "id": "8053503e-82d7-4e88-af38-75830368bdb1",
   "metadata": {},
   "outputs": [
    {
     "name": "stdout",
     "output_type": "stream",
     "text": [
      "[[{'start_index': 0, 'end_index': 4}, {'start_index': 582, 'end_index': 587}, {'start_index': 26, 'end_index': 30}, {'start_index': 17, 'end_index': 25}, {'start_index': 651, 'end_index': 656}], [{'start_index': 67, 'end_index': 74}, {'start_index': 56, 'end_index': 66}, {'start_index': 44, 'end_index': 55}, {'start_index': 37, 'end_index': 43}, {'start_index': 29, 'end_index': 36}], [{'start_index': 29, 'end_index': 31}, {'start_index': 146, 'end_index': 152}, {'start_index': 137, 'end_index': 145}, {'start_index': 125, 'end_index': 136}, {'start_index': 115, 'end_index': 124}], [{'start_index': 29, 'end_index': 31}, {'start_index': 146, 'end_index': 152}, {'start_index': 137, 'end_index': 145}, {'start_index': 125, 'end_index': 136}, {'start_index': 115, 'end_index': 124}], [{'start_index': 44, 'end_index': 55}, {'start_index': 140, 'end_index': 145}, {'start_index': 132, 'end_index': 136}, {'start_index': 115, 'end_index': 122}, {'start_index': 0, 'end_index': 4}], [{'start_index': 136, 'end_index': 142}, {'start_index': 129, 'end_index': 135}, {'start_index': 124, 'end_index': 128}, {'start_index': 115, 'end_index': 123}, {'start_index': 108, 'end_index': 114}], [{'start_index': 264, 'end_index': 269}, {'start_index': 292, 'end_index': 295}, {'start_index': 256, 'end_index': 259}, {'start_index': 182, 'end_index': 187}, {'start_index': 188, 'end_index': 196}], [{'start_index': 68, 'end_index': 73}, {'start_index': 61, 'end_index': 67}, {'start_index': 119, 'end_index': 129}, {'start_index': 111, 'end_index': 118}, {'start_index': 104, 'end_index': 110}], [{'start_index': 33, 'end_index': 36}, {'start_index': 92, 'end_index': 97}, {'start_index': 78, 'end_index': 91}, {'start_index': 70, 'end_index': 77}, {'start_index': 63, 'end_index': 69}], [{'start_index': 13, 'end_index': 16}, {'start_index': 17, 'end_index': 23}, {'start_index': 242, 'end_index': 247}, {'start_index': 17, 'end_index': 22}, {'start_index': 180, 'end_index': 185}], [{'start_index': 144, 'end_index': 150}, {'start_index': 68, 'end_index': 72}, {'start_index': 157, 'end_index': 163}, {'start_index': 151, 'end_index': 156}, {'start_index': 137, 'end_index': 143}], [{'start_index': 18, 'end_index': 24}, {'start_index': 12, 'end_index': 17}, {'start_index': 126, 'end_index': 131}, {'start_index': 300, 'end_index': 303}, {'start_index': 285, 'end_index': 289}], [{'start_index': 101, 'end_index': 107}, {'start_index': 42, 'end_index': 47}, {'start_index': 24, 'end_index': 31}, {'start_index': 302, 'end_index': 308}, {'start_index': 298, 'end_index': 301}], [{'start_index': 50, 'end_index': 57}, {'start_index': 62, 'end_index': 64}, {'start_index': 172, 'end_index': 179}, {'start_index': 164, 'end_index': 171}, {'start_index': 149, 'end_index': 153}], [{'start_index': 50, 'end_index': 57}, {'start_index': 62, 'end_index': 64}, {'start_index': 172, 'end_index': 179}, {'start_index': 164, 'end_index': 171}, {'start_index': 149, 'end_index': 153}], [{'start_index': 68, 'end_index': 73}, {'start_index': 61, 'end_index': 67}, {'start_index': 119, 'end_index': 129}, {'start_index': 111, 'end_index': 118}, {'start_index': 104, 'end_index': 110}], [{'start_index': 0, 'end_index': 4}, {'start_index': 582, 'end_index': 587}, {'start_index': 5, 'end_index': 16}, {'start_index': 26, 'end_index': 30}, {'start_index': 17, 'end_index': 25}]]\n"
     ]
    }
   ],
   "source": [
    "print(train_answers)"
   ]
  },
  {
   "cell_type": "code",
   "execution_count": 51,
   "id": "ea1614d1-ed2b-41e2-b9c1-280be0d119d9",
   "metadata": {},
   "outputs": [
    {
     "name": "stdout",
     "output_type": "stream",
     "text": [
      "Filtered start_positions: [[1, 129, 5, 4, 153], [13, 11, 9, 7, 5], [5, 29, None, 24, 22], [5, 29, None, 24, 22], [9, 27, 26, 22, 1], [26, 25, 24, 22, 21], [None, 60, 54, 41, 41], [13, None, None, 21, 20], [6, None, 15, 13, 12], [3, 4, 53, 4, 40], [None, 13, 33, None, None], [4, 3, 24, None, 59], [20, 9, 4, 61, 60], [10, 12, 38, 35, 30], [10, 12, 38, 35, 30], [13, None, None, 21, 20], [1, 129, 3, 5, 4]]\n",
      "Filtered end_positions: [[None, None, None, None, None], [14, None, 11, 9, 7], [6, 31, 29, 26, 24], [6, 31, 29, 26, 24], [11, 29, 26, 23, None], [28, 26, None, None, 22], [56, 60, None, 41, None], [14, 13, 25, 22, 21], [7, 19, 18, None, 13], [None, 4, 53, 4, 41], [30, 14, 35, 33, 28], [4, 4, None, 61, 59], [21, 10, 6, 62, 61], [11, 12, 40, 38, 31], [11, 12, 40, 38, 31], [14, 13, 25, 22, 21], [None, None, None, None, None]]\n",
      "Start char: 17 End char: 25\n",
      "Context: suas competition software team fall 2023 final report authors marc cruz abdul kalam syed max gross joshua estrada jason mar josh ng ethan tarrer sarkis gafayan rubayet mujahid david jackson status done date sep 21 2023 relative links suas competition software team overview suas competition technical design document suas competition machine learning models 1. introduction two 2. fall 2023 progress three 2.1 timeline three 2.2 recruitment august september four 2.3 learning phase august october four 2.3.1 odlc four 2.3.2 obstacle avoidance five 2.4 odlc design five 2.5 hardware trade studies seven 2.5.1 odlc trade studies seven 2.5.1.1 obc trade study seven 2.5.1.1 camera trade study eight 2.5.2 obstacle avoidance trade study nine 2.6 data collection dataset phase october december ten 2.6.1 standardized object shape ml model ten 2.6.2 standardized object shape alphanumeric color ml model twelve 2.6.3 standardized object alphanumeric ml model thirteen 2.7 modeling phase october february thirteen 2.7.1 uav image recognition trade study decision matrix thirteen 2.7.1.1 training yolo models fifteen 3. reflectionmethod revisions seventeen 4. conclusionfuture work seventeen 5. references eighteen 1. introduction progress report software team suas 2024. document contains current progress project also adding new revisions suas 2025 software team consider increase odds cpp suas team win consistently . 2024 competition mission multiple package delivery companies tasked uas deliver packages customers . fix issues lack expertise future suas software members would begin recruitment spring 2024 allow new members time familiarize work capable contributing fall 2024. also reduces need recruitment next suas competition utilizes full semester work rather recruiting .\n",
      "Question: ['What is 2024?', 'Can you provide details about 2024?', 'Explain the significance of 2024.', 'What are the properties of 2024?']\n"
     ]
    },
    {
     "ename": "RuntimeError",
     "evalue": "Could not infer dtype of NoneType",
     "output_type": "error",
     "traceback": [
      "\u001b[1;31m---------------------------------------------------------------------------\u001b[0m",
      "\u001b[1;31mRuntimeError\u001b[0m                              Traceback (most recent call last)",
      "Cell \u001b[1;32mIn[51], line 42\u001b[0m\n\u001b[0;32m     39\u001b[0m     \u001b[38;5;28mprint\u001b[39m(\u001b[38;5;124m\"\u001b[39m\u001b[38;5;124mQuestion:\u001b[39m\u001b[38;5;124m\"\u001b[39m, train_questions[idx])\n\u001b[0;32m     41\u001b[0m \u001b[38;5;66;03m# Convert to PyTorch tensors\u001b[39;00m\n\u001b[1;32m---> 42\u001b[0m start_positions \u001b[38;5;241m=\u001b[39m torch\u001b[38;5;241m.\u001b[39mtensor(start_positions)\n\u001b[0;32m     43\u001b[0m end_positions \u001b[38;5;241m=\u001b[39m torch\u001b[38;5;241m.\u001b[39mtensor(end_positions)\n\u001b[0;32m     45\u001b[0m \u001b[38;5;66;03m# Define optimizer and loss function\u001b[39;00m\n",
      "\u001b[1;31mRuntimeError\u001b[0m: Could not infer dtype of NoneType"
     ]
    }
   ],
   "source": [
    "train_contexts = [str(context) for context in train_contexts]\n",
    "train_questions = [str(question) for question in train_questions]\n",
    "# Tokenize inputs\n",
    "inputs = tokenizer(train_contexts, \n",
    "                   train_questions, \n",
    "                   padding=True, \n",
    "                   truncation=True, \n",
    "                   return_tensors='pt',\n",
    "                   max_length=512, \n",
    "                   add_special_tokens=True)\n",
    "\n",
    "# Convert answers to answer indices\n",
    "start_positions = []\n",
    "end_positions = []\n",
    "for answers in train_answers:\n",
    "    entity_start_positions = []\n",
    "    entity_end_positions = []\n",
    "    for ans in answers:\n",
    "        start_char = ans['start_index']\n",
    "        end_char = ans['end_index']\n",
    "        # Find corresponding token indices using offsets\n",
    "        start_token = inputs.char_to_token(0, start_char)\n",
    "        end_token = inputs.char_to_token(0, end_char)\n",
    "        entity_start_positions.append(start_token)\n",
    "        entity_end_positions.append(end_token)\n",
    "    start_positions.append(entity_start_positions)\n",
    "    end_positions.append(entity_end_positions)\n",
    "\n",
    "# Filter out None values from start_positions and end_positions\n",
    "start_positions = [pos for pos in start_positions if pos is not None]\n",
    "end_positions = [pos for pos in end_positions if pos is not None]\n",
    "\n",
    "print(\"Filtered start_positions:\", start_positions)\n",
    "print(\"Filtered end_positions:\", end_positions)\n",
    "\n",
    "if start_token is None or end_token is None:\n",
    "    print(\"Start char:\", start_char, \"End char:\", end_char)\n",
    "    print(\"Context:\", train_contexts[idx])\n",
    "    print(\"Question:\", train_questions[idx])\n",
    "\n",
    "# Convert to PyTorch tensors\n",
    "start_positions = torch.tensor(start_positions)\n",
    "end_positions = torch.tensor(end_positions)\n",
    "\n",
    "# Define optimizer and loss function\n",
    "optimizer = torch.optim.AdamW(model.parameters(), lr=2e-5)\n",
    "loss_fn = torch.nn.CrossEntropyLoss()\n",
    "\n",
    "# Training loop\n",
    "num_epochs = 3\n",
    "for epoch in range(num_epochs):\n",
    "    model.train()\n",
    "    total_loss = 0\n",
    "    for batch in train_loader:\n",
    "        optimizer.zero_grad()\n",
    "        input_ids, token_type_ids, attention_mask, start_positions, end_positions = batch\n",
    "        outputs = model(input_ids, token_type_ids=token_type_ids, attention_mask=attention_mask,\n",
    "                        start_positions=start_positions, end_positions=end_positions)\n",
    "        loss = loss_fn(outputs.start_logits, start_positions.view(-1)) + loss_fn(outputs.end_logits, end_positions.view(-1))\n",
    "        total_loss += loss.item()\n",
    "        loss.backward()\n",
    "        optimizer.step()\n",
    "    print(f'Epoch {epoch + 1}, Loss: {total_loss}')\n",
    "\n",
    "# Save the trained model\n",
    "model.save_pretrained('bert_qa_model')"
   ]
  },
  {
   "cell_type": "code",
   "execution_count": null,
   "id": "674cb266-1ebf-48ac-a15e-8d20848849ca",
   "metadata": {},
   "outputs": [],
   "source": []
  }
 ],
 "metadata": {
  "kernelspec": {
   "display_name": "Python 3 (ipykernel)",
   "language": "python",
   "name": "python3"
  },
  "language_info": {
   "codemirror_mode": {
    "name": "ipython",
    "version": 3
   },
   "file_extension": ".py",
   "mimetype": "text/x-python",
   "name": "python",
   "nbconvert_exporter": "python",
   "pygments_lexer": "ipython3",
   "version": "3.11.8"
  }
 },
 "nbformat": 4,
 "nbformat_minor": 5
}
