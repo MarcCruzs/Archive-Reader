{
 "cells": [
  {
   "cell_type": "code",
   "execution_count": 62,
   "id": "cc291552",
   "metadata": {},
   "outputs": [
    {
     "name": "stdout",
     "output_type": "stream",
     "text": [
      "Requirement already satisfied: fuzzywuzzy in c:\\users\\raini\\anaconda3\\lib\\site-packages (0.18.0)\n"
     ]
    }
   ],
   "source": [
    "!pip install fuzzywuzzy"
   ]
  },
  {
   "cell_type": "code",
   "execution_count": 61,
   "id": "6d789fe7",
   "metadata": {},
   "outputs": [],
   "source": [
    "from fuzzywuzzy import fuzz\n",
    "\n",
    "def load_entities(file_path):\n",
    "    entities = []\n",
    "    with open(file_path, 'r') as file:\n",
    "        for line in file:\n",
    "            line = line.strip()\n",
    "            if line:\n",
    "                # Extracting entity from the line\n",
    "                entity = line.split(',')[0].split(':')[1].strip()\n",
    "                entities.append((entity, 'O'))  # Assume 'O' label for all entities initially\n",
    "    return entities\n",
    "\n",
    "def bio_tagging(ner_entities, tfidf_entities):\n",
    "    combined_entities = []\n",
    "    for tfidf_entity, tfidf_score in tfidf_entities:\n",
    "        found = False\n",
    "        best_match_score = 0\n",
    "        best_match_label = None\n",
    "        for ner_entity, ner_label in ner_entities:\n",
    "            if tfidf_entity == ner_entity:  # Match based on string representation\n",
    "                found = True\n",
    "                best_match_label = ner_label  # Use entity type from NER file\n",
    "                break\n",
    "        if found:\n",
    "            if tfidf_score != \"Not Found\":\n",
    "                try:\n",
    "                    tfidf_score = float(tfidf_score)\n",
    "                    if tfidf_score > 0.0:\n",
    "                        combined_entities.append((tfidf_entity, \"B-\" + best_match_label))\n",
    "                    else:\n",
    "                        combined_entities.append((tfidf_entity, \"O\"))\n",
    "                except ValueError:\n",
    "                    combined_entities.append((tfidf_entity, \"O\"))  # Handle invalid numerical values\n",
    "            else:\n",
    "                combined_entities.append((tfidf_entity, \"O\"))\n",
    "        else:\n",
    "            combined_entities.append((tfidf_entity, \"O\"))\n",
    "    return combined_entities\n",
    "\n",
    "\n",
    "\n",
    "def write_biotagged_output(biotagged_entities, output_file):\n",
    "    with open(output_file, 'w') as file:\n",
    "        for entity, label in biotagged_entities:\n",
    "            file.write(f\"{entity}\\t{label}\\n\")\n",
    "\n",
    "def main():\n",
    "    ner_file = \"cleaned_datasets/NER_output_entities.txt\"\n",
    "    tfidf_file = \"cleaned_datasets/TD_IDF_Analysis_Output.txt\"\n",
    "    output_file = \"cleaned_datasets/bio_annotations.txt\"\n",
    "\n",
    "    ner_entities = load_entities(ner_file)\n",
    "    tfidf_entities = load_entities(tfidf_file)\n",
    "\n",
    "    biotagged_entities = bio_tagging(ner_entities, tfidf_entities)\n",
    "\n",
    "    write_biotagged_output(biotagged_entities, output_file)\n",
    "\n",
    "if __name__ == \"__main__\":\n",
    "    main()\n"
   ]
  },
  {
   "cell_type": "code",
   "execution_count": null,
   "id": "d5a2070f",
   "metadata": {},
   "outputs": [],
   "source": []
  }
 ],
 "metadata": {
  "kernelspec": {
   "display_name": "Python 3 (ipykernel)",
   "language": "python",
   "name": "python3"
  },
  "language_info": {
   "codemirror_mode": {
    "name": "ipython",
    "version": 3
   },
   "file_extension": ".py",
   "mimetype": "text/x-python",
   "name": "python",
   "nbconvert_exporter": "python",
   "pygments_lexer": "ipython3",
   "version": "3.11.5"
  }
 },
 "nbformat": 4,
 "nbformat_minor": 5
}
