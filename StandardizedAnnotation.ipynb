{
 "cells": [
  {
   "cell_type": "code",
   "execution_count": 62,
   "id": "cc291552",
   "metadata": {},
   "outputs": [
    {
     "name": "stdout",
     "output_type": "stream",
     "text": [
      "Requirement already satisfied: fuzzywuzzy in c:\\users\\raini\\anaconda3\\lib\\site-packages (0.18.0)\n"
     ]
    }
   ],
   "source": [
    "# !pip install fuzzywuzzy"
   ]
  },
  {
   "cell_type": "code",
   "execution_count": 1,
   "id": "6d789fe7",
   "metadata": {},
   "outputs": [],
   "source": [
    "from fuzzywuzzy import fuzz\n",
    "\n",
    "def load_ner_entities(file_path):\n",
    "    entities = []\n",
    "    with open(file_path, 'r') as file:\n",
    "        for line in file:\n",
    "            line = line.strip()\n",
    "            if line:\n",
    "                # Extracting entity from the line\n",
    "                entity = line.split(': ')[1].split(',')[0].strip()\n",
    "                type_value = line.split(': ')[2].strip()\n",
    "                entities.append((entity, type_value)) \n",
    "    return entities\n",
    "\n",
    "def load_TFIDF_entities(file_path):\n",
    "    entities = []\n",
    "    with open(file_path, 'r') as file:\n",
    "        for line in file:\n",
    "            line = line.strip()\n",
    "            if line:\n",
    "                parts = line.split(': ')\n",
    "                if len(parts) >= 3:\n",
    "                    entity = parts[1].split(',')[0].strip()\n",
    "                    score_part = parts[2]\n",
    "                    if \"Not Found\" in score_part:\n",
    "                        score_value = \"Not Found\"\n",
    "                    else:\n",
    "                        score_value = float(score_part.split(': ')[-1].strip())\n",
    "                    entities.append((entity, score_value))\n",
    "    return entities\n",
    "\n",
    "\n",
    "\n",
    "def bio_tagging(ner_entities, tfidf_entities):\n",
    "    combined_entities = []\n",
    "    \n",
    "    for tfidf_entity, tfidf_score in tfidf_entities:\n",
    "        # Resetting parameters for a new loop\n",
    "        found = False\n",
    "        best_match_score = 0\n",
    "        best_match_label = None\n",
    "        \n",
    "        \n",
    "        for ner_entity, ner_label in ner_entities:\n",
    "            if tfidf_entity == ner_entity:  # Match based on string representation\n",
    "                found = True\n",
    "                best_match_label = ner_label  # Use entity type from NER file\n",
    "                \n",
    "                break\n",
    "\n",
    "        if found:\n",
    "            if tfidf_score != \"Not Found\":\n",
    "                try:\n",
    "                    tfidf_score = float(tfidf_score)\n",
    "                    if tfidf_score > 0.0:\n",
    "                        combined_entities.append((tfidf_entity, \"B-\" + best_match_label))\n",
    "                    else:\n",
    "                        combined_entities.append((tfidf_entity, \"O\"))\n",
    "                except ValueError:\n",
    "                    combined_entities.append((tfidf_entity, \"O\"))  # Handle invalid numerical values\n",
    "            else:\n",
    "                combined_entities.append((tfidf_entity, \"O\"))\n",
    "        else:\n",
    "            combined_entities.append((tfidf_entity, \"O\"))\n",
    "    return combined_entities\n",
    "\n",
    "\n",
    "\n",
    "def write_biotagged_output(biotagged_entities, output_file):\n",
    "    with open(output_file, 'w') as file:\n",
    "        for entity, label in biotagged_entities:\n",
    "            file.write(f\"{entity}\\t{label}\\n\")\n",
    "\n"
   ]
  },
  {
   "cell_type": "code",
   "execution_count": 2,
   "id": "d5a2070f",
   "metadata": {},
   "outputs": [],
   "source": [
    "ner_file = \"cleaned_datasets/NER_output_entities.txt\"\n",
    "tfidf_file = \"cleaned_datasets/TD_IDF_Analysis_Output.txt\"\n",
    "output_file = \"cleaned_datasets/bio_annotations.txt\"\n",
    "\n",
    "ner_entities = load_ner_entities(ner_file)\n",
    "tfidf_entities = load_TFIDF_entities(tfidf_file)"
   ]
  },
  {
   "cell_type": "code",
   "execution_count": 3,
   "id": "1e3f656e-d250-42cf-bb0e-154c25d7f74b",
   "metadata": {},
   "outputs": [
    {
     "name": "stdout",
     "output_type": "stream",
     "text": [
      "[('two thousand and twenty-three', 'CARDINAL'), ('marc cruz', 'PERSON'), ('abdul kalam', 'PERSON'), ('max gross joshua estrada', 'PERSON'), ('jason mar josh', 'PERSON'), ('ng ethan', 'PERSON'), ('sarkis gafayan rubayet', 'ORG'), ('david jackson', 'PERSON'), ('twenty-one', 'CARDINAL'), ('twenty-three', 'CARDINAL'), ('one', 'CARDINAL'), ('two two fall two thousand and twenty-three', 'DATE'), ('twenty-one', 'CARDINAL'), ('twenty-two', 'CARDINAL'), ('four', 'CARDINAL'), ('twenty-three', 'CARDINAL'), ('august', 'DATE'), ('two hundred and thirty-one', 'CARDINAL'), ('two hundred and thirty-two', 'CARDINAL'), ('five twenty-four', 'CARDINAL'), ('five twenty-five', 'CARDINAL'), ('seven', 'CARDINAL'), ('two hundred and fifty-one', 'CARDINAL'), ('two thousand', 'CARDINAL'), ('five hundred and eleven', 'CARDINAL'), ('two thousand', 'CARDINAL'), ('five hundred and eleven', 'CARDINAL'), ('eight', 'CARDINAL'), ('two hundred and fifty-two', 'CARDINAL'), ('nine twenty-six', 'CARDINAL'), ('october', 'DATE'), ('two hundred and sixty-one', 'CARDINAL'), ('two hundred and sixty-two', 'CARDINAL'), ('two hundred and sixty-three', 'CARDINAL'), ('twenty-seven', 'CARDINAL'), ('october', 'DATE'), ('thirteen', 'CARDINAL'), ('two hundred and seventy-one', 'CARDINAL'), ('thirteen two thousand', 'CARDINAL'), ('eleven', 'CARDINAL'), ('fifteen', 'CARDINAL'), ('three', 'CARDINAL'), ('seventeen four', 'CARDINAL'), ('seventeen five', 'CARDINAL'), ('eighteen', 'CARDINAL'), ('two thousand and twenty-four', 'CARDINAL'), ('two thousand and twenty-five', 'DATE'), ('two thousand and twenty-four', 'DATE'), ('four', 'CARDINAL'), ('two', 'CARDINAL'), ('eighty-five', 'CARDINAL'), ('one', 'CARDINAL'), ('semicircle quarter', 'DATE'), ('triangle', 'PRODUCT'), ('pentagon', 'ORG'), ('seventy-five', 'CARDINAL'), ('eighty-five ninety', 'DATE'), ('joshua estrada', 'ORG'), ('josh ng jason mar max gross ethan', 'PERSON'), ('two', 'CARDINAL'), ('twenty-three', 'CARDINAL'), ('twenty-one', 'CARDINAL'), ('august september', 'DATE'), ('august', 'DATE'), ('october', 'DATE'), ('october', 'DATE'), ('december', 'DATE'), ('october', 'DATE'), ('february', 'DATE'), ('cnn', 'ORG'), ('february august', 'DATE'), ('twenty-two', 'CARDINAL'), ('september', 'DATE'), ('five', 'CARDINAL'), ('forty', 'CARDINAL'), ('twenty-three years', 'DATE'), ('marc cruz', 'PERSON'), ('each years', 'DATE'), ('previous years', 'DATE'), ('the current competition year', 'DATE'), ('twenty-three', 'CARDINAL'), ('august', 'DATE'), ('two hundred and thirty-one', 'CARDINAL'), ('david jackson', 'PERSON'), ('opencv', 'NORP'), ('two hundred and thirty-two', 'CARDINAL'), ('twenty-four', 'CARDINAL'), ('two', 'CARDINAL'), ('two', 'CARDINAL'), ('forty-five', 'CARDINAL'), ('three', 'CARDINAL'), ('twenty-five', 'CARDINAL'), ('two hundred and fifty-one', 'CARDINAL'), ('two thousand', 'DATE'), ('five hundred and eleven', 'CARDINAL'), ('five', 'CARDINAL'), ('four', 'CARDINAL'), ('orin nano', 'PERSON'), ('two', 'CARDINAL'), ('one hundred and seventy-one', 'CARDINAL'), ('three', 'CARDINAL'), ('one hundred and seventy three', 'QUANTITY'), ('two', 'CARDINAL'), ('five', 'CARDINAL'), ('one', 'CARDINAL'), ('five', 'CARDINAL'), ('cortexa72', 'PRODUCT'), ('18ghz', 'CARDINAL'), ('five', 'CARDINAL'), ('thirty-two', 'CARDINAL'), ('thirty-five', 'CARDINAL'), ('one hundred and seventy-five', 'CARDINAL'), ('thirty-five thirty-five', 'QUANTITY'), ('thirty-five thirty-five', 'QUANTITY'), ('thirty-five thirty-five', 'QUANTITY'), ('two', 'CARDINAL'), ('six', 'CARDINAL'), ('two', 'CARDINAL'), ('thirty-five thirty-five', 'QUANTITY'), ('forty-seven', 'QUANTITY'), ('thirty-five', 'QUANTITY'), ('thirty-five', 'CARDINAL'), ('one hundred and seventy-six', 'CARDINAL'), ('two', 'CARDINAL'), ('two', 'CARDINAL'), ('twenty-six twenty-eight', 'CARDINAL'), ('twenty-four', 'CARDINAL'), ('twenty-four', 'CARDINAL'), ('twenty-seven', 'QUANTITY'), ('one', 'CARDINAL'), ('two', 'CARDINAL'), ('three', 'CARDINAL'), ('thirty-five', 'CARDINAL'), ('three hundred three hundred two hundred one hundred', 'MONEY'), ('twelve eight five', 'CARDINAL'), ('two hundred two hundred one hundred fifty two thousand', 'CARDINAL'), ('five hundred and eleven', 'CARDINAL'), ('zr10', 'PRODUCT'), ('6mm', 'QUANTITY'), ('one five hundred and ninety-nine', 'CARDINAL'), ('thirty-five', 'CARDINAL'), ('one', 'CARDINAL'), ('one hundred and eighty-four', 'CARDINAL'), ('thirty-five', 'QUANTITY'), ('thirty-five', 'CARDINAL'), ('one hundred and seventy-five', 'CARDINAL'), ('five hundred and sixty', 'CARDINAL'), ('1440p30', 'CARDINAL'), ('one hundred and seventy-five', 'CARDINAL'), ('one thousand', 'CARDINAL'), ('three hundred and thirty-two', 'CARDINAL'), ('one hundred and seventy-five', 'CARDINAL'), ('fifty-five', 'CARDINAL'), ('one hundred and five', 'CARDINAL'), ('ninety-five', 'CARDINAL'), ('seven hundred and fifteen', 'CARDINAL'), ('seven hundred and ninety-five three', 'CARDINAL'), ('sixty-three', 'QUANTITY'), ('twenty-eight', 'CARDINAL'), ('twenty-three', 'QUANTITY'), ('thirty-four', 'CARDINAL'), ('four hundred and forty-five', 'CARDINAL'), ('one', 'CARDINAL'), ('two', 'CARDINAL'), ('three', 'CARDINAL'), ('thirty-five', 'CARDINAL'), ('four hundred four hundred two hundred and fifty two hundred and fifty one hundred one hundred', 'CARDINAL'), ('three hundred and fifty three hundred and fifty two hundred two hundred fifty fifty', 'CARDINAL'), ('thirty', 'CARDINAL'), ('two', 'CARDINAL'), ('two hundred and fifty-two', 'CARDINAL'), ('livox mid40', 'PERSON'), ('one three hundred and nineteen three three five hundred and ninety-nine', 'CARDINAL'), ('five one', 'QUANTITY'), ('thirty-five', 'CARDINAL'), ('one hundred and seventy-five', 'CARDINAL'), ('two hundred and sixty', 'CARDINAL'), ('one hundred and seventy-five eight', 'CARDINAL'), ('ten', 'CARDINAL'), ('three', 'CARDINAL'), ('thirty-five', 'CARDINAL'), ('one hundred and five', 'CARDINAL'), ('thirty-five', 'CARDINAL'), ('one hundred and five', 'CARDINAL'), ('thirty-five', 'CARDINAL'), ('one hundred and five', 'CARDINAL'), ('two', 'CARDINAL'), ('one hundred and ninety two', 'CARDINAL'), ('seven hundred and sixty', 'CARDINAL'), ('one hundred and ninety two four', 'CARDINAL'), ('three twenty-four', 'CARDINAL'), ('twenty-seven', 'CARDINAL'), ('forty-seven thirty-seven three hundred and ninety-five', 'QUANTITY'), ('one', 'CARDINAL'), ('two', 'CARDINAL'), ('three', 'CARDINAL'), ('thirty-five', 'CARDINAL'), ('six eight', 'TIME'), ('twelve', 'CARDINAL'), ('three', 'CARDINAL'), ('two hundred two hundred one hundred and fifty one hundred twenty-six', 'CARDINAL'), ('october', 'DATE'), ('december', 'DATE'), ('two hundred and sixty-one', 'CARDINAL'), ('one thousand', 'CARDINAL'), ('two hundred and thirty-four', 'CARDINAL'), ('four', 'CARDINAL'), ('over one hundred thousand', 'CARDINAL'), ('four', 'CARDINAL'), ('one', 'CARDINAL'), ('three', 'CARDINAL'), ('five', 'CARDINAL'), ('yolov5', 'PERSON'), ('seven hundred and fifty', 'CARDINAL'), ('five hundred', 'CARDINAL'), ('twenty-four thousand', 'CARDINAL'), ('six', 'CARDINAL'), ('one hundred', 'CARDINAL'), ('six', 'CARDINAL'), ('yolov5', 'PERSON'), ('winter', 'DATE'), ('two hundred and sixty-two', 'CARDINAL'), ('two', 'CARDINAL'), ('rgb', 'ORG'), ('two', 'CARDINAL'), ('two hundred and fifty-five', 'CARDINAL'), ('rgb', 'ORG'), ('zero', 'CARDINAL'), ('two hundred and fifty-five million', 'CARDINAL'), ('two hundred and fifty-five thousand', 'CARDINAL'), ('two hundred and fifty-five', 'CARDINAL'), ('second', 'ORDINAL'), ('rgb', 'ORG'), ('rgb', 'ORG'), ('two hundred and sixty-three', 'CARDINAL'), ('opencv', 'NORP'), ('ninety', 'CARDINAL'), ('the spring', 'DATE'), ('twenty-seven', 'CARDINAL'), ('october', 'DATE'), ('february', 'DATE'), ('two hundred and seventy-one', 'CARDINAL'), ('rcnn yolo', 'PERSON'), ('one', 'CARDINAL'), ('five', 'CARDINAL'), ('six', 'CARDINAL'), ('rcnn description', 'PERSON'), ('seven eight', 'CARDINAL'), ('three', 'CARDINAL'), ('one', 'CARDINAL'), ('nine ten', 'CARDINAL'), ('rcnn', 'PERSON'), ('rcnn', 'PERSON'), ('two thousand', 'DATE'), ('eleven', 'CARDINAL'), ('yolov5', 'PERSON'), ('between zero', 'CARDINAL'), ('one', 'CARDINAL'), ('one hundred', 'CARDINAL'), ('two hundred', 'CARDINAL'), ('two thousand', 'DATE'), ('six hundred and seventy-seven', 'CARDINAL'), ('fifty-six', 'DATE'), ('twenty-six', 'CARDINAL'), ('ninety-nine and five', 'CARDINAL'), ('ninety-nine', 'CARDINAL'), ('seventy-seven', 'DATE'), ('one hundred and ninety-nine and six', 'CARDINAL'), ('one hundred and ninety-nine', 'CARDINAL'), ('zero', 'CARDINAL'), ('three hundred and forty-five', 'CARDINAL'), ('the next few weeks', 'DATE'), ('eight', 'CARDINAL'), ('about twenty-four thousand', 'CARDINAL'), ('twenty-three thousand', 'CARDINAL'), ('seven hundred and fifty', 'CARDINAL'), ('five hundred', 'CARDINAL'), ('three', 'CARDINAL'), ('three', 'CARDINAL'), ('two', 'CARDINAL'), ('seven', 'CARDINAL'), ('zero', 'CARDINAL'), ('seven', 'CARDINAL'), ('zero', 'CARDINAL'), ('yolov5', 'PERSON'), ('yolov5', 'LOC'), ('yolov5', 'LOC'), ('six hundred and forty', 'CARDINAL'), ('fifty', 'CARDINAL'), ('one thousand', 'CARDINAL'), ('two hundred and fifty', 'CARDINAL'), ('more than five hours', 'TIME'), ('more than twenty-four thousand', 'CARDINAL'), ('three', 'CARDINAL'), ('nelson brown armstrong', 'PERSON'), ('the beginning of the', 'DATE'), ('four', 'CARDINAL'), ('winter', 'DATE'), ('spring two thousand and twenty-four', 'DATE'), ('two thousand and twenty-four', 'CARDINAL'), ('two', 'CARDINAL'), ('five', 'CARDINAL'), ('one', 'CARDINAL'), ('two', 'CARDINAL'), ('two thousand and twelve', 'DATE'), ('nine hundred and seventy-one thousand', 'CARDINAL'), ('one hundred and five', 'CARDINAL'), ('g hinton', 'ORG'), ('five hundred and twenty-one no seven thousand', 'CARDINAL'), ('five hundred and fifty-three', 'CARDINAL'), ('four hundred and forty-four', 'CARDINAL'), ('two thousand and fifteen seven', 'CARDINAL'), ('rcnn', 'PERSON'), ('two thousand and fifteen pp nine thousand', 'DATE'), ('one hundred and ninety-nine eight', 'CARDINAL'), ('two thousand and sixteen nine', 'DATE'), ('redmon', 'ORG'), ('two thousand and sixteen pp seven hundred and seventy-nine thousand', 'DATE'), ('ten', 'CARDINAL'), ('redmon', 'ORG'), ('yolo9000', 'ORG'), ('two thousand and seventeen', 'DATE')]\n"
     ]
    }
   ],
   "source": [
    "print(ner_entities)"
   ]
  },
  {
   "cell_type": "code",
   "execution_count": 4,
   "id": "a63f74ae-fc45-4948-9a31-e99f4b2a3dd1",
   "metadata": {},
   "outputs": [
    {
     "name": "stdout",
     "output_type": "stream",
     "text": [
      "[('2023', 0.009765367732305392), ('marc cruz', 'Not Found'), ('abdul kalam', 'Not Found'), ('max gross joshua estrada', 'Not Found'), ('jason mar josh', 'Not Found'), ('ng ethan', 'Not Found'), ('sarkis gafayan rubayet', 'Not Found'), ('david jackson', 'Not Found'), ('21 2023', 'Not Found'), ('1', 'Not Found'), ('2 2 fall 2023', 'Not Found'), ('3 21', 'Not Found'), ('4 23', 'Not Found'), ('august', 0.017089393531534436), ('231', 0.004882683866152696), ('4 232', 'Not Found'), ('5 24', 'Not Found'), ('5 25', 'Not Found'), ('7 251', 'Not Found'), ('7 2511', 'Not Found'), ('7 2511', 'Not Found'), ('8 252', 'Not Found'), ('9 26', 'Not Found'), ('october', 0.021972077397687133), ('261', 0.004882683866152696), ('10 262', 'Not Found'), ('12 263', 'Not Found'), ('october', 0.021972077397687133), ('13 271', 'Not Found'), ('13', 0.009765367732305392), ('15', 0.002441341933076348), ('17 4', 'Not Found'), ('17 5', 'Not Found'), ('18 1', 'Not Found'), ('2024', 0.009765367732305392), ('2025', 0.002441341933076348), ('2024', 0.009765367732305392), ('four', 0.002441341933076348), ('two', 0.01220670966538174), ('85', 0.004882683866152696), ('11', 0.002441341933076348), ('1', 'Not Found'), ('semicircle quarter', 'Not Found'), ('triangle', 0.004882683866152696), ('pentagon', 0.002441341933076348), ('75', 0.004882683866152696), ('85 90', 'Not Found'), ('joshua estrada', 'Not Found'), ('josh ng jason mar max gross ethan', 'Not Found'), ('2 fall 2023', 'Not Found'), ('21', 0.0073240257992290446), ('august september', 'Not Found'), ('august', 0.017089393531534436), ('october', 0.021972077397687133), ('october', 0.021972077397687133), ('december', 0.0073240257992290446), ('october', 0.021972077397687133), ('february', 0.009765367732305392), ('cnn', 0.002441341933076348), ('february august', 'Not Found'), ('22', 0.004882683866152696), ('august september', 'Not Found'), ('5', 'Not Found'), ('40', 0.002441341933076348), ('23 years', 'Not Found'), ('marc cruz', 'Not Found'), ('each years', 'Not Found'), ('previous years', 'Not Found'), ('the current competition year', 'Not Found'), ('23', 0.009765367732305392), ('august', 0.017089393531534436), ('october', 0.021972077397687133), ('231', 0.004882683866152696), ('david jackson', 'Not Found'), ('opencv', 0.01220670966538174), ('232', 0.004882683866152696), ('24', 0.01220670966538174), ('two', 0.01220670966538174), ('2', 'Not Found'), ('45', 0.002441341933076348), ('3', 'Not Found'), ('25', 0.004882683866152696), ('251', 0.004882683866152696), ('2511', 0.009765367732305392), ('5', 'Not Found'), ('4', 'Not Found'), ('orin nano', 'Not Found'), ('2', 'Not Found'), ('5', 'Not Found'), ('18ghz', 0.002441341933076348), ('32', 0.002441341933076348), ('35 175', 'Not Found'), ('1', 'Not Found'), ('35 35', 'Not Found'), ('35 35', 'Not Found'), ('35 35', 'Not Found'), ('1 48', 'Not Found'), ('35', 0.06835757412613774), ('176', 0.002441341933076348), ('26 28', 'Not Found'), ('24', 0.01220670966538174), ('24', 0.01220670966538174), ('1 2', 'Not Found'), ('35', 0.06835757412613774), ('300', 0.004882683866152696), ('13 12', 'Not Found'), ('200 200 100', 'Not Found'), ('zr10', 0.002441341933076348), ('6mm', 0.002441341933076348), ('1', 'Not Found'), ('1 184', 'Not Found'), ('381', 0.002441341933076348), ('35', 0.06835757412613774), ('2560', 0.002441341933076348), ('1440p30 35', 'Not Found'), ('2028', 0.004882683866152696), ('1080p50', 0.002441341933076348), ('2028', 0.004882683866152696), ('1520p40 1332', 'Not Found'), ('35 175', 'Not Found'), ('3', 'Not Found'), ('35 105', 'Not Found'), ('4', 'Not Found'), ('95', 0.002441341933076348), ('70', 0.002441341933076348), ('715', 0.002441341933076348), ('795', 0.002441341933076348), ('3', 'Not Found'), ('12', 0.021972077397687133), ('3 12', 'Not Found'), ('28', 0.004882683866152696), ('23', 0.009765367732305392), ('34', 0.002441341933076348), ('445', 0.002441341933076348), ('1 2', 'Not Found'), ('400', 0.0073240257992290446), ('250', 0.004882683866152696), ('250', 0.004882683866152696), ('100', 0.017089393531534436), ('100', 0.017089393531534436), ('350 350', 'Not Found'), ('200', 0.021972077397687133), ('30', 0.004882683866152696), ('resolution 30', 'Not Found'), ('252', 0.004882683866152696), ('livox mid40', 'Not Found'), ('1 319', 'Not Found'), ('3', 'Not Found'), ('3', 'Not Found'), ('5 01', 'Not Found'), ('16', 0.004882683866152696), ('175', 0.014648051598458089), ('260', 0.002441341933076348), ('35', 0.06835757412613774), ('175', 0.014648051598458089), ('8', 'Not Found'), ('3', 'Not Found'), ('35 105', 'Not Found'), ('35 105', 'Not Found'), ('35 105', 'Not Found'), ('2', 'Not Found'), ('760', 0.002441341933076348), ('3 24 27', 'Not Found'), ('47 37 395', 'Not Found'), ('1 2', 'Not Found'), ('35', 0.06835757412613774), ('800', 0.004882683866152696), ('6 8', 'Not Found'), ('12', 0.021972077397687133), ('200 200 150', 'Not Found'), ('october', 0.021972077397687133), ('december', 0.0073240257992290446), ('261', 0.004882683866152696), ('1234', 0.002441341933076348), ('4', 'Not Found'), ('100000', 0.002441341933076348), ('4', 'Not Found'), ('one', 0.01220670966538174), ('3', 'Not Found'), ('5', 'Not Found'), ('yolov5', 0.014648051598458089), ('750', 0.004882683866152696), ('500', 0.0073240257992290446), ('24000', 0.009765367732305392), ('6', 'Not Found'), ('100', 0.017089393531534436), ('6', 'Not Found'), ('yolov5', 0.014648051598458089), ('winter', 0.004882683866152696), ('262', 0.004882683866152696), ('2', 'Not Found'), ('rgb', 0.017089393531534436), ('two', 0.01220670966538174), ('0255', 0.002441341933076348), ('rgb', 0.017089393531534436), ('255255255', 0.002441341933076348), ('second', 0.002441341933076348), ('rgb', 0.017089393531534436), ('rgb', 0.017089393531534436), ('263', 0.004882683866152696), ('opencv', 0.01220670966538174), ('90', 0.004882683866152696), ('the spring', 'Not Found'), ('27', 0.009765367732305392), ('october', 0.021972077397687133), ('february', 0.009765367732305392), ('271', 0.004882683866152696), ('rcnn yolo', 'Not Found'), ('1', 'Not Found'), ('5', 'Not Found'), ('6 2', 'Not Found'), ('rcnn description', 'Not Found'), ('7', 'Not Found'), ('one', 0.01220670966538174), ('9 10', 'Not Found'), ('rcnn', 0.014648051598458089), ('rcnn', 0.014648051598458089), ('2711', 0.004882683866152696), ('yolov5', 0.014648051598458089), ('between 0 and 1', 'Not Found'), ('100', 0.017089393531534436), ('200', 0.021972077397687133), ('2677', 0.002441341933076348), ('56', 0.002441341933076348), ('26', 0.009765367732305392), ('99', 0.004882683866152696), ('5', 'Not Found'), ('99', 0.004882683866152696), ('77', 0.002441341933076348), ('199', 0.004882683866152696), ('6', 'Not Found'), ('199', 0.004882683866152696), ('0', 'Not Found'), ('0 0815 0777 00345 00392', 'Not Found'), ('the next few weeks', 'Not Found'), ('8', 'Not Found'), ('about 24000', 'Not Found'), ('an additional 24000', 'Not Found'), ('23000', 0.002441341933076348), ('750', 0.004882683866152696), ('500', 0.0073240257992290446), ('three', 0.004882683866152696), ('three', 0.004882683866152696), ('two', 0.01220670966538174), ('7', 'Not Found'), ('0', 'Not Found'), ('7', 'Not Found'), ('0', 'Not Found'), ('yolov5', 0.014648051598458089), ('yolov5', 0.014648051598458089), ('yolov5', 0.014648051598458089), ('640', 0.002441341933076348), ('16', 0.004882683866152696), ('1250', 0.002441341933076348), ('more than 5 hours', 'Not Found'), ('more than 24000', 'Not Found'), ('3', 'Not Found'), ('nelson brown armstrong', 'Not Found'), ('the beginning of the', 'Not Found'), ('4', 'Not Found'), ('winter', 0.004882683866152696), ('spring 2024', 'Not Found'), ('fall 2024', 'Not Found'), ('two', 0.01220670966538174), ('5', 'Not Found'), ('1', 'Not Found'), ('2', 'Not Found'), ('2012 pp 10971105 6', 'Not Found'), ('g hinton', 'Not Found'), ('521', 0.002441341933076348), ('436444 2015', 'Not Found'), ('rcnn', 0.014648051598458089), ('2015 pp 9199 8', 'Not Found'), ('2016 9', 'Not Found'), ('2016 pp 779788 10', 'Not Found'), ('redmon', 0.004882683866152696), ('yolo9000', 0.002441341933076348), ('2017', 0.002441341933076348)]\n"
     ]
    }
   ],
   "source": [
    "print(tfidf_entities)"
   ]
  },
  {
   "cell_type": "code",
   "execution_count": 5,
   "id": "b1b0b52d-5745-408f-9940-199290e181ee",
   "metadata": {},
   "outputs": [],
   "source": [
    "biotagged_entities = bio_tagging(ner_entities, tfidf_entities)\n",
    "\n",
    "write_biotagged_output(biotagged_entities, output_file)"
   ]
  },
  {
   "cell_type": "code",
   "execution_count": null,
   "id": "2890efbd-8b90-468c-8e27-c32c2cd91b36",
   "metadata": {},
   "outputs": [],
   "source": []
  }
 ],
 "metadata": {
  "kernelspec": {
   "display_name": "Python 3 (ipykernel)",
   "language": "python",
   "name": "python3"
  },
  "language_info": {
   "codemirror_mode": {
    "name": "ipython",
    "version": 3
   },
   "file_extension": ".py",
   "mimetype": "text/x-python",
   "name": "python",
   "nbconvert_exporter": "python",
   "pygments_lexer": "ipython3",
   "version": "3.11.8"
  }
 },
 "nbformat": 4,
 "nbformat_minor": 5
}
