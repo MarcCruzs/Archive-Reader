{
 "cells": [
  {
   "cell_type": "code",
   "execution_count": 62,
   "id": "cc291552",
   "metadata": {},
   "outputs": [
    {
     "name": "stdout",
     "output_type": "stream",
     "text": [
      "Requirement already satisfied: fuzzywuzzy in c:\\users\\raini\\anaconda3\\lib\\site-packages (0.18.0)\n"
     ]
    }
   ],
   "source": [
    "# !pip install fuzzywuzzy"
   ]
  },
  {
   "cell_type": "code",
   "execution_count": 82,
   "id": "6d789fe7",
   "metadata": {},
   "outputs": [],
   "source": [
    "from fuzzywuzzy import fuzz\n",
    "\n",
    "def load_ner_entities(file_path):\n",
    "    entities = []\n",
    "    with open(file_path, 'r') as file:\n",
    "        for line in file:\n",
    "            line = line.strip()\n",
    "            if line:\n",
    "                # Extracting entity from the line\n",
    "                entity = line.split(': ')[1].split(',')[0].strip()\n",
    "                type_value = line.split(': ')[2].strip()\n",
    "                entities.append((entity, type_value)) \n",
    "    return entities\n",
    "\n",
    "def load_TFIDF_entities(file_path):\n",
    "    entities = []\n",
    "    with open(file_path, 'r') as file:\n",
    "        for line in file:\n",
    "            line = line.strip()\n",
    "            if line:\n",
    "                parts = line.split(': ')\n",
    "                if len(parts) >= 3:\n",
    "                    entity = parts[1].split(',')[0].strip()\n",
    "                    score_part = parts[2]\n",
    "                    if \"Not Found\" in score_part:\n",
    "                        score_value = \"Not Found\"\n",
    "                    else:\n",
    "                        score_value = float(score_part.split(': ')[-1].strip())\n",
    "                    entities.append((entity, score_value))\n",
    "    return entities\n",
    "\n",
    "\n",
    "\n",
    "def bio_tagging(ner_entities, tfidf_entities):\n",
    "    combined_entities = []\n",
    "    \n",
    "    for tfidf_entity, tfidf_score in tfidf_entities:\n",
    "        # Resetting parameters for a new loop\n",
    "        found = False\n",
    "        best_match_score = 0\n",
    "        best_match_label = None\n",
    "        \n",
    "        \n",
    "        for ner_entity, ner_label in ner_entities:\n",
    "            if tfidf_entity == ner_entity:  # Match based on string representation\n",
    "                found = True\n",
    "                best_match_label = ner_label  # Use entity type from NER file\n",
    "                \n",
    "                break\n",
    "\n",
    "        if found:\n",
    "            if tfidf_score != \"Not Found\":\n",
    "                try:\n",
    "                    tfidf_score = float(tfidf_score)\n",
    "                    if tfidf_score > 0.0:\n",
    "                        combined_entities.append((tfidf_entity, \"B-\" + best_match_label))\n",
    "                    else:\n",
    "                        combined_entities.append((tfidf_entity, \"O\"))\n",
    "                except ValueError:\n",
    "                    combined_entities.append((tfidf_entity, \"O\"))  # Handle invalid numerical values\n",
    "            else:\n",
    "                combined_entities.append((tfidf_entity, \"O\"))\n",
    "        else:\n",
    "            combined_entities.append((tfidf_entity, \"O\"))\n",
    "    return combined_entities\n",
    "\n",
    "\n",
    "\n",
    "def write_biotagged_output(biotagged_entities, output_file):\n",
    "    with open(output_file, 'w') as file:\n",
    "        for entity, label in biotagged_entities:\n",
    "            file.write(f\"{entity}\\t{label}\\n\")\n",
    "\n"
   ]
  },
  {
   "cell_type": "code",
   "execution_count": 83,
   "id": "d5a2070f",
   "metadata": {},
   "outputs": [],
   "source": [
    "ner_file = \"cleaned_datasets/NER_output_entities.txt\"\n",
    "tfidf_file = \"cleaned_datasets/TD_IDF_Analysis_Output.txt\"\n",
    "output_file = \"cleaned_datasets/bio_annotations.txt\"\n",
    "\n",
    "ner_entities = load_ner_entities(ner_file)\n",
    "tfidf_entities = load_TFIDF_entities(tfidf_file)"
   ]
  },
  {
   "cell_type": "code",
   "execution_count": 84,
   "id": "1e3f656e-d250-42cf-bb0e-154c25d7f74b",
   "metadata": {},
   "outputs": [
    {
     "name": "stdout",
     "output_type": "stream",
     "text": [
      "[('2023', 'CARDINAL'), ('marc cruz', 'PERSON'), ('abdul kalam', 'PERSON'), ('max gross joshua estrada', 'PERSON'), ('jason mar josh', 'PERSON'), ('ng ethan', 'PERSON'), ('sarkis gafayan rubayet', 'ORG'), ('david jackson', 'PERSON'), ('21 2023', 'DATE'), ('1', 'CARDINAL'), ('2 2 fall 2023', 'DATE'), ('3 21', 'CARDINAL'), ('4 23', 'CARDINAL'), ('august', 'DATE'), ('231', 'CARDINAL'), ('4 232', 'CARDINAL'), ('5 24', 'CARDINAL'), ('5 25', 'CARDINAL'), ('7 251', 'CARDINAL'), ('7 2511', 'DATE'), ('7 2511', 'DATE'), ('8 252', 'CARDINAL'), ('9 26', 'CARDINAL'), ('october', 'DATE'), ('261', 'CARDINAL'), ('10 262', 'CARDINAL'), ('12 263', 'CARDINAL'), ('october', 'DATE'), ('13 271', 'CARDINAL'), ('13', 'CARDINAL'), ('15', 'CARDINAL'), ('17 4', 'CARDINAL'), ('17 5', 'CARDINAL'), ('18 1', 'CARDINAL'), ('2024', 'CARDINAL'), ('2025', 'CARDINAL'), ('2024', 'DATE'), ('four', 'CARDINAL'), ('two', 'CARDINAL'), ('85', 'CARDINAL'), ('11', 'CARDINAL'), ('1', 'CARDINAL'), ('semicircle quarter', 'DATE'), ('triangle', 'PRODUCT'), ('pentagon', 'ORG'), ('75', 'CARDINAL'), ('85 90', 'CARDINAL'), ('joshua estrada', 'ORG'), ('josh ng jason mar max gross ethan', 'PERSON'), ('2 fall 2023', 'DATE'), ('21', 'CARDINAL'), ('august september', 'DATE'), ('august', 'DATE'), ('october', 'DATE'), ('october', 'DATE'), ('december', 'DATE'), ('october', 'DATE'), ('february', 'DATE'), ('cnn', 'ORG'), ('february august', 'DATE'), ('22', 'CARDINAL'), ('august september', 'DATE'), ('5', 'CARDINAL'), ('40', 'CARDINAL'), ('23 years', 'DATE'), ('marc cruz', 'PERSON'), ('each years', 'DATE'), ('previous years', 'DATE'), ('the current competition year', 'DATE'), ('23', 'CARDINAL'), ('august', 'DATE'), ('october', 'DATE'), ('231', 'CARDINAL'), ('david jackson', 'PERSON'), ('opencv', 'NORP'), ('232', 'CARDINAL'), ('24', 'CARDINAL'), ('two', 'CARDINAL'), ('2', 'CARDINAL'), ('45', 'CARDINAL'), ('3', 'CARDINAL'), ('25', 'CARDINAL'), ('251', 'CARDINAL'), ('2511', 'DATE'), ('5', 'CARDINAL'), ('4', 'CARDINAL'), ('orin nano', 'PERSON'), ('2', 'CARDINAL'), ('5', 'CARDINAL'), ('18ghz', 'CARDINAL'), ('32', 'CARDINAL'), ('35 175', 'CARDINAL'), ('1', 'CARDINAL'), ('35 35', 'DATE'), ('35 35', 'DATE'), ('35 35', 'CARDINAL'), ('1 48', 'DATE'), ('35', 'CARDINAL'), ('176', 'CARDINAL'), ('26 28', 'CARDINAL'), ('24', 'CARDINAL'), ('24', 'CARDINAL'), ('1 2', 'CARDINAL'), ('35', 'CARDINAL'), ('300', 'CARDINAL'), ('13 12', 'CARDINAL'), ('200 200 100', 'MONEY'), ('zr10', 'PRODUCT'), ('6mm', 'QUANTITY'), ('1', 'CARDINAL'), ('1 184', 'CARDINAL'), ('381', 'CARDINAL'), ('35', 'CARDINAL'), ('2560', 'DATE'), ('1440p30 35', 'DATE'), ('2028', 'DATE'), ('1080p50', 'PERSON'), ('2028', 'DATE'), ('1520p40 1332', 'DATE'), ('35 175', 'CARDINAL'), ('3', 'CARDINAL'), ('35 105', 'CARDINAL'), ('4', 'CARDINAL'), ('95', 'CARDINAL'), ('70', 'CARDINAL'), ('715', 'CARDINAL'), ('795', 'CARDINAL'), ('3', 'CARDINAL'), ('12', 'CARDINAL'), ('3 12', 'CARDINAL'), ('28', 'CARDINAL'), ('23', 'CARDINAL'), ('34', 'CARDINAL'), ('445', 'CARDINAL'), ('1 2', 'CARDINAL'), ('400', 'CARDINAL'), ('250', 'CARDINAL'), ('250', 'CARDINAL'), ('100', 'CARDINAL'), ('100', 'CARDINAL'), ('350 350', 'CARDINAL'), ('200', 'CARDINAL'), ('30', 'CARDINAL'), ('resolution 30', 'LAW'), ('252', 'CARDINAL'), ('livox mid40', 'PERSON'), ('1 319', 'CARDINAL'), ('3', 'CARDINAL'), ('3', 'CARDINAL'), ('5 01', 'DATE'), ('16', 'CARDINAL'), ('175', 'CARDINAL'), ('260', 'CARDINAL'), ('35', 'CARDINAL'), ('175', 'CARDINAL'), ('8', 'CARDINAL'), ('3', 'CARDINAL'), ('35 105', 'DATE'), ('35 105', 'DATE'), ('35 105', 'CARDINAL'), ('2', 'CARDINAL'), ('760', 'CARDINAL'), ('3 24 27', 'CARDINAL'), ('47 37 395', 'DATE'), ('1 2', 'CARDINAL'), ('35', 'CARDINAL'), ('800', 'CARDINAL'), ('6 8', 'DATE'), ('12', 'CARDINAL'), ('200 200 150', 'MONEY'), ('october', 'DATE'), ('december', 'DATE'), ('261', 'CARDINAL'), ('1234', 'DATE'), ('4', 'CARDINAL'), ('100000', 'CARDINAL'), ('4', 'CARDINAL'), ('one', 'CARDINAL'), ('3', 'CARDINAL'), ('5', 'CARDINAL'), ('yolov5', 'PERSON'), ('750', 'CARDINAL'), ('500', 'CARDINAL'), ('24000', 'CARDINAL'), ('6', 'CARDINAL'), ('100', 'CARDINAL'), ('6', 'CARDINAL'), ('yolov5', 'PERSON'), ('winter', 'DATE'), ('262', 'CARDINAL'), ('2', 'CARDINAL'), ('rgb', 'ORG'), ('two', 'CARDINAL'), ('0255', 'DATE'), ('rgb', 'ORG'), ('255255255', 'DATE'), ('second', 'ORDINAL'), ('rgb', 'ORG'), ('rgb', 'ORG'), ('263', 'CARDINAL'), ('opencv', 'NORP'), ('90', 'CARDINAL'), ('the spring', 'DATE'), ('27', 'CARDINAL'), ('october', 'DATE'), ('february', 'DATE'), ('271', 'CARDINAL'), ('rcnn yolo', 'PERSON'), ('1', 'CARDINAL'), ('5', 'CARDINAL'), ('6 2', 'CARDINAL'), ('rcnn description', 'PERSON'), ('7', 'CARDINAL'), ('one', 'CARDINAL'), ('9 10', 'CARDINAL'), ('rcnn', 'PERSON'), ('rcnn', 'PERSON'), ('2711', 'DATE'), ('yolov5', 'PERSON'), ('between 0 and 1', 'CARDINAL'), ('100', 'CARDINAL'), ('200', 'CARDINAL'), ('2677', 'DATE'), ('56', 'CARDINAL'), ('26', 'CARDINAL'), ('99', 'CARDINAL'), ('5', 'CARDINAL'), ('99', 'CARDINAL'), ('77', 'CARDINAL'), ('199', 'CARDINAL'), ('6', 'CARDINAL'), ('199', 'CARDINAL'), ('0', 'CARDINAL'), ('0 0815 0777 00345 00392', 'DATE'), ('the next few weeks', 'DATE'), ('8', 'CARDINAL'), ('about 24000', 'CARDINAL'), ('an additional 24000', 'CARDINAL'), ('23000', 'CARDINAL'), ('750', 'CARDINAL'), ('500', 'CARDINAL'), ('three', 'CARDINAL'), ('three', 'CARDINAL'), ('two', 'CARDINAL'), ('7', 'CARDINAL'), ('0', 'CARDINAL'), ('7', 'CARDINAL'), ('0', 'CARDINAL'), ('yolov5', 'PERSON'), ('yolov5', 'LOC'), ('yolov5', 'LOC'), ('640', 'CARDINAL'), ('16', 'CARDINAL'), ('1250', 'CARDINAL'), ('more than 5 hours', 'TIME'), ('more than 24000', 'CARDINAL'), ('3', 'CARDINAL'), ('nelson brown armstrong', 'PERSON'), ('the beginning of the', 'DATE'), ('4', 'CARDINAL'), ('winter', 'DATE'), ('spring 2024', 'DATE'), ('fall 2024', 'DATE'), ('two', 'CARDINAL'), ('5', 'CARDINAL'), ('1', 'CARDINAL'), ('2', 'CARDINAL'), ('2012 pp 10971105 6', 'DATE'), ('g hinton', 'ORG'), ('521', 'CARDINAL'), ('436444 2015', 'DATE'), ('rcnn', 'PERSON'), ('2015 pp 9199 8', 'DATE'), ('2016 9', 'DATE'), ('2016 pp 779788 10', 'DATE'), ('redmon', 'ORG'), ('yolo9000', 'ORG'), ('2017', 'DATE')]\n"
     ]
    }
   ],
   "source": [
    "print(ner_entities)"
   ]
  },
  {
   "cell_type": "code",
   "execution_count": 85,
   "id": "a63f74ae-fc45-4948-9a31-e99f4b2a3dd1",
   "metadata": {},
   "outputs": [
    {
     "name": "stdout",
     "output_type": "stream",
     "text": [
      "[('2023', 0.009765367732305392), ('marc cruz', 'Not Found'), ('abdul kalam', 'Not Found'), ('max gross joshua estrada', 'Not Found'), ('jason mar josh', 'Not Found'), ('ng ethan', 'Not Found'), ('sarkis gafayan rubayet', 'Not Found'), ('david jackson', 'Not Found'), ('21 2023', 'Not Found'), ('1', 'Not Found'), ('2 2 fall 2023', 'Not Found'), ('3 21', 'Not Found'), ('4 23', 'Not Found'), ('august', 0.017089393531534436), ('231', 0.004882683866152696), ('4 232', 'Not Found'), ('5 24', 'Not Found'), ('5 25', 'Not Found'), ('7 251', 'Not Found'), ('7 2511', 'Not Found'), ('7 2511', 'Not Found'), ('8 252', 'Not Found'), ('9 26', 'Not Found'), ('october', 0.021972077397687133), ('261', 0.004882683866152696), ('10 262', 'Not Found'), ('12 263', 'Not Found'), ('october', 0.021972077397687133), ('13 271', 'Not Found'), ('13', 0.009765367732305392), ('15', 0.002441341933076348), ('17 4', 'Not Found'), ('17 5', 'Not Found'), ('18 1', 'Not Found'), ('2024', 0.009765367732305392), ('2025', 0.002441341933076348), ('2024', 0.009765367732305392), ('four', 0.002441341933076348), ('two', 0.01220670966538174), ('85', 0.004882683866152696), ('11', 0.002441341933076348), ('1', 'Not Found'), ('semicircle quarter', 'Not Found'), ('triangle', 0.004882683866152696), ('pentagon', 0.002441341933076348), ('75', 0.004882683866152696), ('85 90', 'Not Found'), ('joshua estrada', 'Not Found'), ('josh ng jason mar max gross ethan', 'Not Found'), ('2 fall 2023', 'Not Found'), ('21', 0.0073240257992290446), ('august september', 'Not Found'), ('august', 0.017089393531534436), ('october', 0.021972077397687133), ('october', 0.021972077397687133), ('december', 0.0073240257992290446), ('october', 0.021972077397687133), ('february', 0.009765367732305392), ('cnn', 0.002441341933076348), ('february august', 'Not Found'), ('22', 0.004882683866152696), ('august september', 'Not Found'), ('5', 'Not Found'), ('40', 0.002441341933076348), ('23 years', 'Not Found'), ('marc cruz', 'Not Found'), ('each years', 'Not Found'), ('previous years', 'Not Found'), ('the current competition year', 'Not Found'), ('23', 0.009765367732305392), ('august', 0.017089393531534436), ('october', 0.021972077397687133), ('231', 0.004882683866152696), ('david jackson', 'Not Found'), ('opencv', 0.01220670966538174), ('232', 0.004882683866152696), ('24', 0.01220670966538174), ('two', 0.01220670966538174), ('2', 'Not Found'), ('45', 0.002441341933076348), ('3', 'Not Found'), ('25', 0.004882683866152696), ('251', 0.004882683866152696), ('2511', 0.009765367732305392), ('5', 'Not Found'), ('4', 'Not Found'), ('orin nano', 'Not Found'), ('2', 'Not Found'), ('5', 'Not Found'), ('18ghz', 0.002441341933076348), ('32', 0.002441341933076348), ('35 175', 'Not Found'), ('1', 'Not Found'), ('35 35', 'Not Found'), ('35 35', 'Not Found'), ('35 35', 'Not Found'), ('1 48', 'Not Found'), ('35', 0.06835757412613774), ('176', 0.002441341933076348), ('26 28', 'Not Found'), ('24', 0.01220670966538174), ('24', 0.01220670966538174), ('1 2', 'Not Found'), ('35', 0.06835757412613774), ('300', 0.004882683866152696), ('13 12', 'Not Found'), ('200 200 100', 'Not Found'), ('zr10', 0.002441341933076348), ('6mm', 0.002441341933076348), ('1', 'Not Found'), ('1 184', 'Not Found'), ('381', 0.002441341933076348), ('35', 0.06835757412613774), ('2560', 0.002441341933076348), ('1440p30 35', 'Not Found'), ('2028', 0.004882683866152696), ('1080p50', 0.002441341933076348), ('2028', 0.004882683866152696), ('1520p40 1332', 'Not Found'), ('35 175', 'Not Found'), ('3', 'Not Found'), ('35 105', 'Not Found'), ('4', 'Not Found'), ('95', 0.002441341933076348), ('70', 0.002441341933076348), ('715', 0.002441341933076348), ('795', 0.002441341933076348), ('3', 'Not Found'), ('12', 0.021972077397687133), ('3 12', 'Not Found'), ('28', 0.004882683866152696), ('23', 0.009765367732305392), ('34', 0.002441341933076348), ('445', 0.002441341933076348), ('1 2', 'Not Found'), ('400', 0.0073240257992290446), ('250', 0.004882683866152696), ('250', 0.004882683866152696), ('100', 0.017089393531534436), ('100', 0.017089393531534436), ('350 350', 'Not Found'), ('200', 0.021972077397687133), ('30', 0.004882683866152696), ('resolution 30', 'Not Found'), ('252', 0.004882683866152696), ('livox mid40', 'Not Found'), ('1 319', 'Not Found'), ('3', 'Not Found'), ('3', 'Not Found'), ('5 01', 'Not Found'), ('16', 0.004882683866152696), ('175', 0.014648051598458089), ('260', 0.002441341933076348), ('35', 0.06835757412613774), ('175', 0.014648051598458089), ('8', 'Not Found'), ('3', 'Not Found'), ('35 105', 'Not Found'), ('35 105', 'Not Found'), ('35 105', 'Not Found'), ('2', 'Not Found'), ('760', 0.002441341933076348), ('3 24 27', 'Not Found'), ('47 37 395', 'Not Found'), ('1 2', 'Not Found'), ('35', 0.06835757412613774), ('800', 0.004882683866152696), ('6 8', 'Not Found'), ('12', 0.021972077397687133), ('200 200 150', 'Not Found'), ('october', 0.021972077397687133), ('december', 0.0073240257992290446), ('261', 0.004882683866152696), ('1234', 0.002441341933076348), ('4', 'Not Found'), ('100000', 0.002441341933076348), ('4', 'Not Found'), ('one', 0.01220670966538174), ('3', 'Not Found'), ('5', 'Not Found'), ('yolov5', 0.014648051598458089), ('750', 0.004882683866152696), ('500', 0.0073240257992290446), ('24000', 0.009765367732305392), ('6', 'Not Found'), ('100', 0.017089393531534436), ('6', 'Not Found'), ('yolov5', 0.014648051598458089), ('winter', 0.004882683866152696), ('262', 0.004882683866152696), ('2', 'Not Found'), ('rgb', 0.017089393531534436), ('two', 0.01220670966538174), ('0255', 0.002441341933076348), ('rgb', 0.017089393531534436), ('255255255', 0.002441341933076348), ('second', 0.002441341933076348), ('rgb', 0.017089393531534436), ('rgb', 0.017089393531534436), ('263', 0.004882683866152696), ('opencv', 0.01220670966538174), ('90', 0.004882683866152696), ('the spring', 'Not Found'), ('27', 0.009765367732305392), ('october', 0.021972077397687133), ('february', 0.009765367732305392), ('271', 0.004882683866152696), ('rcnn yolo', 'Not Found'), ('1', 'Not Found'), ('5', 'Not Found'), ('6 2', 'Not Found'), ('rcnn description', 'Not Found'), ('7', 'Not Found'), ('one', 0.01220670966538174), ('9 10', 'Not Found'), ('rcnn', 0.014648051598458089), ('rcnn', 0.014648051598458089), ('2711', 0.004882683866152696), ('yolov5', 0.014648051598458089), ('between 0 and 1', 'Not Found'), ('100', 0.017089393531534436), ('200', 0.021972077397687133), ('2677', 0.002441341933076348), ('56', 0.002441341933076348), ('26', 0.009765367732305392), ('99', 0.004882683866152696), ('5', 'Not Found'), ('99', 0.004882683866152696), ('77', 0.002441341933076348), ('199', 0.004882683866152696), ('6', 'Not Found'), ('199', 0.004882683866152696), ('0', 'Not Found'), ('0 0815 0777 00345 00392', 'Not Found'), ('the next few weeks', 'Not Found'), ('8', 'Not Found'), ('about 24000', 'Not Found'), ('an additional 24000', 'Not Found'), ('23000', 0.002441341933076348), ('750', 0.004882683866152696), ('500', 0.0073240257992290446), ('three', 0.004882683866152696), ('three', 0.004882683866152696), ('two', 0.01220670966538174), ('7', 'Not Found'), ('0', 'Not Found'), ('7', 'Not Found'), ('0', 'Not Found'), ('yolov5', 0.014648051598458089), ('yolov5', 0.014648051598458089), ('yolov5', 0.014648051598458089), ('640', 0.002441341933076348), ('16', 0.004882683866152696), ('1250', 0.002441341933076348), ('more than 5 hours', 'Not Found'), ('more than 24000', 'Not Found'), ('3', 'Not Found'), ('nelson brown armstrong', 'Not Found'), ('the beginning of the', 'Not Found'), ('4', 'Not Found'), ('winter', 0.004882683866152696), ('spring 2024', 'Not Found'), ('fall 2024', 'Not Found'), ('two', 0.01220670966538174), ('5', 'Not Found'), ('1', 'Not Found'), ('2', 'Not Found'), ('2012 pp 10971105 6', 'Not Found'), ('g hinton', 'Not Found'), ('521', 0.002441341933076348), ('436444 2015', 'Not Found'), ('rcnn', 0.014648051598458089), ('2015 pp 9199 8', 'Not Found'), ('2016 9', 'Not Found'), ('2016 pp 779788 10', 'Not Found'), ('redmon', 0.004882683866152696), ('yolo9000', 0.002441341933076348), ('2017', 0.002441341933076348)]\n"
     ]
    }
   ],
   "source": [
    "print(tfidf_entities)"
   ]
  },
  {
   "cell_type": "code",
   "execution_count": 86,
   "id": "b1b0b52d-5745-408f-9940-199290e181ee",
   "metadata": {},
   "outputs": [],
   "source": [
    "biotagged_entities = bio_tagging(ner_entities, tfidf_entities)\n",
    "\n",
    "write_biotagged_output(biotagged_entities, output_file)"
   ]
  },
  {
   "cell_type": "code",
   "execution_count": null,
   "id": "2890efbd-8b90-468c-8e27-c32c2cd91b36",
   "metadata": {},
   "outputs": [],
   "source": []
  }
 ],
 "metadata": {
  "kernelspec": {
   "display_name": "Python 3 (ipykernel)",
   "language": "python",
   "name": "python3"
  },
  "language_info": {
   "codemirror_mode": {
    "name": "ipython",
    "version": 3
   },
   "file_extension": ".py",
   "mimetype": "text/x-python",
   "name": "python",
   "nbconvert_exporter": "python",
   "pygments_lexer": "ipython3",
   "version": "3.11.8"
  }
 },
 "nbformat": 4,
 "nbformat_minor": 5
}
