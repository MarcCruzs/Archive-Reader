{
 "cells": [
  {
   "cell_type": "code",
   "execution_count": 2,
   "id": "2cf973b8",
   "metadata": {},
   "outputs": [
    {
     "name": "stdout",
     "output_type": "stream",
     "text": [
      "Results written to output_keywords.txt\n"
     ]
    }
   ],
   "source": [
    "from sklearn.feature_extraction.text import CountVectorizer\n",
    "from sklearn.feature_extraction.text import TfidfTransformer\n",
    "import numpy as np\n",
    "\n",
    "def extract_keywords(file_path, output_file, top_n=5, sort_range=None):\n",
    "    # Read the text from the file\n",
    "    with open(file_path, 'r', encoding='utf-8') as file:\n",
    "        text = file.read()\n",
    "\n",
    "    # Create a CountVectorizer to compute term frequencies\n",
    "    count_vectorizer = CountVectorizer(stop_words='english')\n",
    "    word_counts = count_vectorizer.fit_transform([text])\n",
    "\n",
    "    # Get feature names (terms)\n",
    "    feature_names = np.array(count_vectorizer.get_feature_names_out())\n",
    "\n",
    "    # Compute term frequencies\n",
    "    term_frequencies = word_counts.toarray().flatten()\n",
    "\n",
    "    # Get indices to sort\n",
    "    if sort_range is not None:\n",
    "        sorted_indices = np.argsort(term_frequencies)[::-1][sort_range[0]:sort_range[1]]\n",
    "    else:\n",
    "        sorted_indices = np.argsort(term_frequencies)[::-1]\n",
    "\n",
    "    # Get top N keywords\n",
    "    top_keywords = feature_names[sorted_indices][:top_n]\n",
    "    \n",
    "    # Get frequency of each word\n",
    "    word_frequencies = term_frequencies[sorted_indices][:top_n]\n",
    "\n",
    "    # Write the results to the output file\n",
    "    with open(output_file, 'w', encoding='utf-8') as out_file:\n",
    "        out_file.write(\"Top Keywords with Frequencies:\\n\")\n",
    "        for keyword, frequency in zip(top_keywords, word_frequencies):\n",
    "            out_file.write(f\"Keyword: {keyword}, Frequency: {frequency}\\n\")\n",
    "\n",
    "# Example usage\n",
    "file_path = \"cleaned_datasets/cleaned_SUAS_final_report.txt\"  # Change this to the path of your text file\n",
    "output_file = \"cleaned_datasets/TD_IDF_Analysis_Output.txt\"  # Change this to the desired output file path\n",
    "extract_keywords(file_path, output_file, top_n=50, sort_range=(0, 50))\n",
    "\n",
    "print(\"Results written to output_keywords.txt\")"
   ]
  },
  {
   "cell_type": "code",
   "execution_count": null,
   "id": "5ba762df",
   "metadata": {},
   "outputs": [],
   "source": []
  }
 ],
 "metadata": {
  "kernelspec": {
   "display_name": "Python 3 (ipykernel)",
   "language": "python",
   "name": "python3"
  },
  "language_info": {
   "codemirror_mode": {
    "name": "ipython",
    "version": 3
   },
   "file_extension": ".py",
   "mimetype": "text/x-python",
   "name": "python",
   "nbconvert_exporter": "python",
   "pygments_lexer": "ipython3",
   "version": "3.11.5"
  }
 },
 "nbformat": 4,
 "nbformat_minor": 5
}
