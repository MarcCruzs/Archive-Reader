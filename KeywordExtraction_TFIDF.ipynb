{
 "cells": [
  {
   "cell_type": "code",
   "execution_count": 11,
   "id": "2cf973b8",
   "metadata": {},
   "outputs": [
    {
     "name": "stdout",
     "output_type": "stream",
     "text": [
      "{'suas': 950, 'competition': 178, 'software': 910, 'team': 982, 'fall': 359, 'two': 1042, 'thousand': 1009, 'and': 58, 'twenty': 1041, 'three': 1010, 'final': 372, 'report': 818, 'authors': 82, 'marc': 593, 'cruz': 234, 'abdul': 14, 'kalam': 530, 'syed': 964, 'max': 596, 'gross': 435, 'joshua': 525, 'estrada': 341, 'jason': 521, 'mar': 592, 'josh': 524, 'ng': 648, 'ethan': 342, 'tarrer': 976, 'sarkis': 857, 'gafayan': 414, 'rubayet': 848, 'mujahid': 629, 'david': 247, 'jackson': 520, 'status': 936, 'done': 299, 'date': 246, 'sep': 878, 'one': 680, 'relative': 812, 'links': 567, 'overview': 706, 'technical': 984, 'design': 263, 'document': 294, 'machine': 580, 'learning': 551, 'models': 624, 'introduction': 514, 'progress': 763, 'timeline': 1016, 'recruitment': 798, 'august': 81, 'september': 879, 'four': 400, 'phase': 723, 'october': 672, 'hundred': 460, 'thirty': 1005, 'odlc': 674, 'obstacle': 668, 'avoidance': 89, 'five': 380, 'hardware': 439, 'trade': 1026, 'studies': 948, 'seven': 883, 'fifty': 369, 'eleven': 321, 'obc': 663, 'study': 949, 'camera': 129, 'eight': 316, 'nine': 649, 'six': 899, 'data': 242, 'collection': 164, 'dataset': 243, 'december': 249, 'ten': 985, 'sixty': 901, 'standardized': 930, 'object': 664, 'shape': 887, 'ml': 620, 'model': 622, 'alphanumeric': 46, 'color': 165, 'twelve': 1040, 'thirteen': 1004, 'modeling': 623, 'february': 366, 'seventy': 885, 'uav': 1047, 'image': 471, 'recognition': 792, 'decision': 250, 'matrix': 595, 'training': 1030, 'yolo': 1130, 'fifteen': 368, 'reflectionmethod': 806, 'revisions': 838, 'seventeen': 884, 'conclusionfuture': 189, 'work': 1114, 'references': 805, 'eighteen': 317, 'this': 1006, 'is': 515, 'a': 11, 'for': 394, 'the': 996, 'contains': 210, 'current': 235, 'of': 675, 'project': 764, 'also': 49, 'adding': 28, 'any': 61, 'new': 646, 'that': 995, 'to': 1019, 'consider': 198, 'increase': 489, 'odds': 673, 'cpp': 225, 'win': 1108, 'more': 626, 'consistently': 205, 'or': 690, 'student': 947, 'unmanned': 1056, 'aerial': 36, 'systems': 967, 'yearly': 1126, 'with': 1111, 'particular': 712, 'mission': 617, 'multiple': 631, 'package': 709, 'delivery': 254, 'companies': 174, 'have': 441, 'tasked': 978, 'uas': 1046, 'deliver': 253, 'packages': 710, 'customers': 240, 'these': 1002, 'must': 632, 'avoid': 88, 'each': 309, 'other': 694, 'travel': 1036, 'customer': 239, 'identify': 464, 'potential': 742, 'drop': 305, 'locations': 573, 'safe': 853, 'location': 572, 'broken': 123, 'down': 300, 'into': 510, 'tasks': 979, 'autonomous': 84, 'flight': 385, 'detection': 271, 'classification': 150, 'localization': 571, 'air': 40, 'focuses': 390, 'on': 676, 'implementation': 477, 'details': 267, 'actual': 25, 'methodology': 607, 'please': 732, 'refer': 804, 'we': 1089, 'are': 69, 'required': 820, 'detect': 268, 'classify': 152, 'types': 1045, 'objects': 666, 'emergent': 322, 'eighty': 318, 'x': 1118, 'in': 484, 'size': 903, 'various': 1078, 'shapes': 888, 'alphanumerics': 47, 'figure': 370, 'standard': 929, 'left': 554, 'white': 1102, 'blue': 118, 'triangle': 1038, 'right': 840, 'manikin': 590, 'dressed': 302, 'clothes': 156, 'according': 19, 'rulebook': 849, 'circle': 145, 'semicircle': 875, 'quarter': 782, 'rectangle': 799, 'pentagon': 718, 'star': 932, 'cross': 232, 'colors': 167, 'black': 114, 'red': 800, 'green': 433, 'purple': 775, 'brown': 124, 'orange': 691, 'targets': 975, 'be': 98, 'detected': 269, 'by': 126, 'minimum': 614, 'altitude': 51, 'ft': 405, 'ideally': 463, 'within': 1112, 'range': 785, 'ninety': 651, 'then': 999, 'target': 974, 'able': 16, 'determine': 275, 'signaling': 892, 'payload': 717, 'coordinates': 214, 'creating': 229, 'an': 55, 'effective': 311, 'around': 72, 'ensure': 331, 'safety': 854, 'drone': 303, 'would': 1116, 'integration': 500, 'system': 966, 'lidar': 562, 'onboard': 677, 'computer': 187, 'obstacles': 669, 'accordingly': 20, 'members': 600, 'gafafyan': 413, 'there': 1001, 'was': 1087, 'consideration': 199, 'teaching': 981, 'towards': 1025, 'mind': 613, 'all': 42, 'information': 494, 'written': 1117, 'general': 416, 'inclusion': 488, 'designs': 266, 'lab': 536, 'interview': 505, 'advertising': 35, 'interviewing': 508, 'join': 523, 'introduce': 511, 'basics': 96, 'cover': 224, 'different': 284, 'solid': 911, 'understanding': 1052, 'highlight': 450, 'importance': 480, 'preparation': 752, 'create': 227, 'tailored': 969, 'objectives': 665, 'explain': 354, 'process': 760, 'selection': 872, 'experimentation': 351, 'encourage': 327, 'explore': 355, 'prebuilt': 747, 'custom': 238, 'cnn': 158, 'development': 279, 'realtime': 791, 'testing': 991, 'describe': 261, 'selected': 871, 'emphasize': 324, 'finetuning': 376, 'during': 307, 'focused': 389, 'overall': 700, 'subteam': 956, 'including': 487, 'created': 228, 'oversaw': 705, 'interviews': 509, 'where': 1100, 'along': 45, 'projects': 765, 'interviewed': 506, 'together': 1020, 'speed': 924, 'up': 1057, 'consisted': 202, 'interviewers': 507, 'sorting': 916, 'through': 1013, 'forty': 396, 'applicants': 62, 'passing': 714, 'most': 627, 'optimal': 688, 'derived': 260, 'from': 404, 'secretary': 866, 'problem': 758, 'adjusted': 32, 'stopping': 940, 'theory': 1000, 'geared': 415, 'so': 908, 'has': 440, 'individuals': 490, 'who': 1103, 'capable': 133, 'finishing': 377, 'core': 216, 'but': 125, 'larger': 542, 'emphasis': 323, 'extended': 356, 'time': 1015, 'years': 1127, 'solidify': 912, 'group': 436, 'future': 411, 'once': 679, 'sophomore': 915, 'junior': 527, 'standing': 931, 'learn': 550, 'later': 544, 'take': 970, 'over': 699, 'graduating': 432, 'member': 599, 'positions': 738, 'considered': 201, 'auxiliary': 85, 'although': 50, 'i': 461, 'want': 1085, 'my': 633, 'as': 75, 'lead': 547, 'wanted': 1086, 'longevity': 574, 'terms': 988, 'knowledge': 533, 'accumulated': 21, 'previous': 756, 'lacked': 540, 'proper': 769, 'documentation': 295, 'available': 86, 'transfer': 1034, 'year': 1125, 'thus': 1014, 'strong': 942, 'it': 517, 'will': 1107, 'if': 467, 'can': 130, 'make': 586, 'substantial': 954, 'ultimately': 1048, 'leads': 549, 'completion': 180, 'product': 762, 'except': 348, 'faster': 364, 'allow': 43, 'room': 844, 'even': 344, 'advanced': 33, 'introduced': 512, 'onboarded': 678, 'lack': 539, 'foundation': 399, 'science': 861, 'mitigate': 618, 'implemented': 479, 'help': 445, 'list': 568, 'libraries': 558, 'familiarize': 361, 'themselves': 998, 'numpy': 660, 'opencv': 684, 'pytorch': 780, 'good': 427, 'basic': 95, 'operations': 687, 'mathematical': 594, 'functions': 407, 'reshaping': 827, 'arrays': 74, 'combining': 171, 'element': 320, 'wise': 1110, 'linear': 566, 'algebra': 41, 'possibly': 741, 'optional': 689, 'review': 837, 'array': 73, 'statistics': 935, 'vision': 1082, 'library': 559, 'used': 1062, 'clean': 153, 'pass': 713, 'video': 1081, 'out': 696, 'cuttingslicing': 241, 'portions': 736, 'images': 473, 'binary': 112, 'processing': 761, 'thresholding': 1012, 'erosion': 339, 'dilation': 287, 'opening': 685, 'closing': 155, 'contours': 211, 'blob': 116, 'connected': 196, 'component': 184, 'analysis': 56, 'blobs': 117, 'pytesseract': 778, 'kerasocr': 531, 'pretrained': 754, 'text': 992, 'using': 1063, 'character': 140, 'identifying': 465, 'which': 1101, 'better': 110, 'results': 835, 'application': 63, 'at': 77, 'hand': 438, 'topic': 1022, 'mimic': 612, 'usage': 1060, 'drones': 304, 'same': 855, 'implementations': 478, 'were': 1095, 'teams': 983, 'sending': 876, 'output': 697, 'their': 997, 'pixhawk': 729, 'whatever': 1098, 'managing': 588, 'path': 715, 'rerouting': 824, 'away': 90, 'looked': 576, 'open': 683, 'source': 917, 'such': 957, 'mits': 619, 'mader': 582, 'generating': 420, 'initial': 495, 'spline': 925, 'followed': 393, 'goes': 425, 'further': 410, 'fleshed': 383, 'multi': 630, 'modal': 621, 'consists': 206, 'stacked': 928, 'upon': 1059, 'traits': 1033, 'find': 373, 'illustration': 470, 'below': 107, 'illustrates': 469, 'how': 453, 'inference': 492, 'should': 889, 'operate': 686, 'diagram': 282, 'colored': 166, 'circles': 146, 'description': 262, 'automatically': 83, 'generated': 418, 'flowchart': 387, 'inferencing': 493, 'correspond': 219, 'trait': 1032, 'predicting': 750, 'chosen': 144, 'combine': 169, 'instead': 497, 'considerations': 200, 'cluster': 157, 'order': 692, 'utilize': 1064, 'depicts': 259, 'interactions': 502, 'between': 111, 'equipment': 336, 'section': 867, 'conducted': 192, 'components': 185, 'conduct': 191, 'raspberry': 786, 'pi': 724, 'coral': 215, 'accelerator': 18, 'jetson': 522, 'orin': 693, 'nano': 635, 'criteria': 231, 'weight': 1091, 'grade': 431, 'weighted': 1092, 'cost': 223, 'units': 1055, 'quadcore': 781, '64bit': 8, 'arm': 70, 'cortexa76': 222, 'cpu': 226, 'cortexa72': 221, 'v8': 1066, 'soc': 909, '18ghz': 5, '1024core': 0, 'nvidia': 661, 'ampere': 54, 'architecture': 67, 'gpu': 428, 'tensor': 986, 'cores': 217, 'support': 961, 'yes': 1128, 'power': 743, 'consumption': 208, 'w': 1084, 'g': 412, 'average': 87, 'total': 1024, 'normalization': 654, 'chart': 142, 'reduced': 802, 'accuracy': 22, 'subpar': 953, 'semi': 874, 'obsolescence': 667, 'update': 1058, 'oakd': 662, 'pro': 757, 'poe': 735, 'imx378': 483, 'sensor': 877, 'siyi': 902, 'zr10': 1137, 'rpi': 846, 'hq': 455, '6mm': 9, 'lens': 555, 'resolutionfps': 831, '1080p60fps': 2, '4k30fps': 7, '1440p30': 3, '1080p50': 1, '1520p40': 4, '990p120': 10, '2w': 6, 'fourteen': 401, 'fov': 402, 'hfov': 446, 'vfov': 1080, 'hfovl': 447, 'dfov': 281, 'incapable': 485, 'high': 449, 'resolution': 830, 'fps': 403, 'moderately': 625, 'strongly': 944, 'rplidar': 847, 'a2m8': 12, 'livox': 570, 'mid40': 609, 'a3': 13, 'nineteen': 650, 'm': 579, 'sixteen': 900, 'working': 1115, 'task': 977, 'split': 926, 'researching': 826, 'collecting': 163, 'specific': 921, 'detecting': 270, 'nature': 636, 'unique': 1054, 'characteristics': 141, 'need': 638, 'its': 518, 'own': 708, 'due': 306, 'difficulty': 286, 'needing': 640, 'pilot': 726, 'licensing': 561, 'limited': 565, 'scheduling': 860, 'licensed': 560, 'pilots': 727, 'led': 553, 'synthetic': 965, 'combines': 170, 'datasets': 244, 'scripting': 864, 'variations': 1075, 'onto': 682, 'some': 913, 'not': 656, 'ideal': 462, 'conditions': 190, 'competing': 177, 'circumstances': 147, 'rely': 814, 'just': 528, 'several': 886, 'environment': 334, 'still': 939, 'addresses': 31, 'runway': 851, 'blacktop': 115, 'roads': 842, 'collage': 161, 'road': 841, 'samples': 856, 'starting': 934, 'began': 103, 'experimenting': 352, 'made': 581, 'certain': 138, 'percentage': 720, 'having': 442, 'consistent': 204, 'determined': 276, 'sized': 904, 'based': 93, 'depicted': 258, 'first': 379, 'experimental': 350, 'test': 989, 'validity': 1071, 'collected': 162, 'trained': 1029, 'yolov5': 1132, 'only': 681, 'plus': 733, 'validation': 1070, 'promising': 766, 'shown': 890, 'very': 1079, 'small': 907, 'consistency': 203, 'however': 454, 'accurate': 23, 'recognizes': 794, 'round': 845, 'confusion': 195, 'had': 437, 'score': 863, 'been': 101, 'case': 135, 'doesnt': 297, 'sizes': 905, 'cause': 136, 'being': 106, 'overfitting': 702, 'did': 283, 'contain': 209, 'they': 1003, 'similar': 894, 'introducing': 513, 'well': 1094, 'currently': 236, 'completed': 179, 'winter': 1109, 'break': 122, 'mentioned': 603, 'before': 102, 'creation': 230, 'preprocessing': 753, 'given': 423, 'taking': 973, 'segmented': 870, 'predicted': 749, 'result': 834, 'majority': 585, 'extract': 357, 'rgb': 839, 'values': 1073, 'common': 173, 'approach': 65, 'chose': 143, 'move': 628, 'methods': 608, 'making': 587, 'approaches': 66, 'finite': 378, 'value': 1072, 'determines': 277, 'example': 347, 'known': 534, 'zero': 1135, 'million': 611, 'second': 865, 'finding': 374, 'labeled': 537, 'corresponding': 220, 'crossreferencing': 233, 'pixel': 728, 'equivalentthe': 338, 'prevalent': 755, 'picture': 725, 'strategy': 941, 'deduced': 251, 'shrinking': 891, 'bounding': 119, 'box': 120, 'ocr': 671, 'allows': 44, 'read': 789, 'reimplementation': 810, 'main': 583, 'focus': 388, 'already': 48, 'do': 293, 'taken': 971, 'input': 496, 'outputs': 698, 'acts': 24, 'method': 605, 'ensuring': 332, 'no': 652, 'false': 360, 'positives': 739, 'occurences': 670, 'nonstandardized': 653, 'confidence': 194, 'threshold': 1011, 'may': 597, 'change': 139, 'depending': 257, 'spring': 927, 'semester': 873, 'expertise': 353, 'subject': 952, 'related': 811, 'research': 825, 'methodologies': 606, 'under': 1050, 'convolutional': 213, 'neural': 645, 'networks': 644, 'cnns': 160, 'rcnn': 788, 'you': 1134, 'look': 575, 'evaluation': 343, 'ability': 15, 'correctly': 218, 'capability': 132, 'resource': 832, 'requirement': 821, 'computational': 186, 'memory': 601, 'demand': 255, 'dependency': 256, 'amount': 53, 'complexity': 183, 'integrating': 499, 'hierarchical': 448, 'deep': 252, 'specialized': 919, 'pattern': 716, 'pros': 772, 'layered': 545, 'enables': 326, 'feature': 365, 'extraction': 358, 'levels': 557, 'simple': 895, 'complex': 181, 'finetuned': 375, 'adaptable': 26, 'designed': 265, 'varied': 1076, 'complexities': 182, 'robustness': 843, 'performs': 722, 'minor': 615, 'distortions': 289, 'cons': 197, 'prone': 768, 'especially': 340, 'intensity': 501, 'requires': 823, 'powerful': 744, 'gpus': 429, 'train': 1028, 'interpretability': 504, 'difficult': 285, 'interpret': 503, 'understand': 1051, 'layerwise': 546, 'cnnbased': 159, 'region': 808, 'proposal': 770, 'network': 643, 'efficiently': 314, 'suggests': 958, 'endtoend': 329, 'simplifies': 897, 'merging': 604, 'steps': 938, 'precision': 748, 'flexible': 384, 'integrated': 498, 'architectures': 68, 'like': 563, 'resnet': 829, 'add': 27, 'utilizes': 1065, 'proposals': 771, 'slower': 906, 'fast': 363, 'singleshot': 898, 'detectors': 273, 'ultrafast': 1049, 'treats': 1037, 'regression': 809, 'applications': 64, 'impressive': 482, 'simplicity': 896, 'detector': 272, 'without': 1113, 'unified': 1053, 'detects': 274, 'classifies': 151, 'forward': 397, 'scalable': 859, 'variants': 1074, 'eg': 315, 'tinyyolo': 1018, 'devices': 280, 'capabilities': 131, 'compared': 175, 'twostage': 1043, 'spatial': 918, 'constraints': 207, 'grid': 434, 'struggles': 946, 'overlapping': 704, 'might': 610, 'struggle': 945, 'when': 1099, 'overlap': 703, 'substantially': 955, 'boxes': 121, 'predicts': 751, 'fixed': 382, 'number': 659, 'comparison': 176, 'table': 968, 'medium': 598, 'low': 578, 'conclusion': 188, 'requirements': 822, 'include': 486, 'resources': 833, 'tradeoff': 1027, 'becomes': 100, 'paramount': 711, 'recommendation': 795, 'begin': 104, 'balance': 91, 'prove': 773, 'significant': 893, 'barriers': 92, 'transitioning': 1035, 'efficiency': 313, 'file': 371, 'png': 734, 'jpeg': 526, 'txt': 1044, 'class': 148, 'xcoordinate': 1119, 'ycoordinate': 1124, 'center': 137, 'width': 1106, 'height': 444, 'does': 296, 'care': 134, 'about': 17, 'drawn': 301, 'needs': 641, 'annotation': 59, 'normalized': 655, 'way': 1088, 'dividing': 291, 'xmax': 1120, 'ymax': 1129, 'minus': 616, 'pxl': 777, 'xy': 1121, 'wh': 1096, 'divide': 290, 'call': 127, 'annotations': 60, 'something': 914, 'start': 933, 'many': 591, 'empty': 325, 'yaml': 1123, 'discuss': 288, 'ex': 346, 'sure': 962, 'generate': 417, 'next': 647, 'few': 367, 'weeks': 1090, 'now': 658, 'possible': 740, 'combinations': 168, 'recognize': 793, 'came': 128, 'additional': 30, 'those': 1007, 'lot': 577, 'purposes': 776, 'mention': 602, 'takes': 972, 'sections': 868, 'folders': 392, 'folder': 391, 'val': 1067, 'mandatory': 589, 'ignored': 468, 'practice': 746, 'subfolders': 951, 'labels': 538, 'less': 556, 'validated': 1069, 'after': 37, 'every': 345, 'epochs': 335, 'times': 1017, 'lastly': 543, 'ran': 784, 'end': 328, 'important': 481, 'note': 657, 'validate': 1068, 'set': 881, 'addition': 29, 'classes': 149, 'names': 634, 'see': 869, 'placed': 731, 'position': 737, 'because': 99, 'our': 695, 'either': 319, 'place': 730, 'cloned': 154, 'navigate': 637, 'command': 172, 'prompt': 767, 'python': 779, 'trainpy': 1031, 'imgsize': 474, 'batchsize': 97, 'datayour_yaml_fileyaml': 245, 'weights': 1093, 'yolov5spt': 1133, 'than': 994, 'hours': 452, 'per': 719, 'require': 819, 'specs': 923, 'bit': 113, 'fix': 381, 'though': 1008, 'large': 541, 'step': 937, 'analyze': 57, 'imperfections': 475, 'generates': 419, 'use': 1061, 'reflections': 807, 'nelson': 642, 'armstrong': 71, 'engineer': 330, 'variety': 1077, 'altitudes': 52, 'earlier': 310, 'summer': 959, 'effectively': 312, 'deal': 248, 'retention': 836, 'beginning': 105, 'attempted': 79, 'remedied': 816, 'overviewing': 707, 'relevant': 813, 'needed': 639, 'fundamental': 408, 'teach': 980, 'say': 858, 'gives': 424, 'fundamentals': 409, 'scope': 862, 'attend': 80, 'overarching': 701, 'domain': 298, 'specifically': 922, 'recruit': 796, 'get': 421, 'implement': 476, 'experience': 349, 'mainly': 584, 'what': 1097, 'going': 426, 'real': 790, 'likely': 564, 'series': 880, 'remains': 815, 'found': 398, 'texts': 993, 'pure': 774, 'curriculum': 237, 'grad': 430, 'run': 850, 'developer': 278, 'kit': 532, 'attempt': 78, 'turn': 1039, 'tensorflow': 987, 'lite': 569, 'equivalent': 337, 'form': 395, 'benchmarks': 108, 'flops': 386, 'settings': 882, 'ai': 39, 'performance': 721, 'tested': 990, 'issues': 516, 'contributing': 212, 'reduces': 803, 'full': 406, 'rather': 787, 'recruiting': 797, 'again': 38, 'whole': 1104, 'entirely': 333, 'designated': 264, 'leader': 548, 'too': 1021, 'wide': 1105, 'bases': 94, 'asked': 76, 'specialty': 920, 'topics': 1023, 'httpssitesgooglecomviewgrliuavdté': 457, 'é': 1139, 'µ': 1138, 'httpsvisioneeccuedutwaerialimage': 458, 'httpscemsekaustedusaivuluav123': 456, 'httpswwwproquestcomdocview2530133784fulltextpdf8a0658d0d93f45c0pq1accountid10357': 459, 'krizhevsky': 535, 'sutskever': 963, 'e': 308, 'hinton': 451, 'imagenet': 472, 'proc': 759, 'advances': 34, 'inf': 491, 'pp': 745, 'y': 1122, 'lecun': 552, 'bengio': 109, 'vol': 1083, 's': 852, 'ren': 817, 'k': 529, 'he': 443, 'r': 783, 'girshick': 422, 'j': 519, 'sun': 960, 'zhang': 1136, 'residual': 828, 'ieee': 466, 'conf': 193, 'redmon': 801, 'divvala': 292, 'farhadi': 362, 'yolo9000': 1131, 'stronger': 943}\n",
      "TF-IDF analysis completed. Results saved to cleaned_datasets/TD_IDF_Analysis_Output.txt\n"
     ]
    }
   ],
   "source": [
    "import os\n",
    "from sklearn.feature_extraction.text import TfidfVectorizer\n",
    "import re\n",
    "\n",
    "# Define file paths\n",
    "input_entities_file = \"cleaned_datasets/NER_output_entities.txt\"\n",
    "input_report_file = \"cleaned_datasets/cleaned_SUAS_final_report.txt\"\n",
    "output_file = \"cleaned_datasets/TD_IDF_Analysis_Output.txt\"\n",
    "\n",
    "# Read entities from input_entities_file\n",
    "entities = []\n",
    "with open(input_entities_file, 'r') as file:\n",
    "    for line in file:\n",
    "        entity = line.split(':')[1].strip().split(',')[0].strip().lower()\n",
    "        entities.append(entity)\n",
    "\n",
    "# Read cleaned report text\n",
    "with open(input_report_file, 'r') as file:\n",
    "    report_text = file.read().lower()  # Convert to lowercase\n",
    "\n",
    "# Tokenize the report text\n",
    "corpus = [report_text]\n",
    "\n",
    "def custom_tokenizer(text):\n",
    "    # Define a regex pattern to match names\n",
    "    name_pattern = r'\\b(?:[A-Z][a-z]+(?:\\s[A-Z][a-z]+)*)\\b'\n",
    "    \n",
    "    # Find all occurrences of names in the text\n",
    "    names = re.findall(name_pattern, text)\n",
    "    \n",
    "    # Tokenize the rest of the text using default word tokenizer\n",
    "    words = re.findall(r'\\b\\w+\\b', text)\n",
    "    \n",
    "    # Combine names and words into a single list\n",
    "    tokens = names + words\n",
    "    \n",
    "    return tokens\n",
    "\n",
    "# Calculate TF-IDF\n",
    "tfidf_vectorizer = TfidfVectorizer(tokenizer=custom_tokenizer)\n",
    "tfidf_matrix = tfidf_vectorizer.fit_transform(corpus)\n",
    "\n",
    "# Write TF-IDF scores to output file\n",
    "with open(output_file, 'w') as file:\n",
    "    for entity in entities:\n",
    "        index = tfidf_vectorizer.vocabulary_.get(entity, None)\n",
    "        if index is not None:\n",
    "            tfidf_score = tfidf_matrix[0, index]\n",
    "            file.write(f\"Entity: {entity}, TF-IDF Score: {tfidf_score}\\n\")\n",
    "        else:\n",
    "            file.write(f\"Entity: {entity}, TF-IDF Score: Not Found\\n\")\n",
    "print(tfidf_vectorizer.vocabulary_)\n",
    "\n",
    "print(\"TF-IDF analysis completed. Results saved to\", output_file)\n"
   ]
  },
  {
   "cell_type": "code",
   "execution_count": null,
   "id": "5ba762df",
   "metadata": {},
   "outputs": [],
   "source": []
  },
  {
   "cell_type": "code",
   "execution_count": null,
   "id": "1bca5393",
   "metadata": {},
   "outputs": [],
   "source": []
  }
 ],
 "metadata": {
  "kernelspec": {
   "display_name": "Python 3 (ipykernel)",
   "language": "python",
   "name": "python3"
  },
  "language_info": {
   "codemirror_mode": {
    "name": "ipython",
    "version": 3
   },
   "file_extension": ".py",
   "mimetype": "text/x-python",
   "name": "python",
   "nbconvert_exporter": "python",
   "pygments_lexer": "ipython3",
   "version": "3.11.8"
  }
 },
 "nbformat": 4,
 "nbformat_minor": 5
}
