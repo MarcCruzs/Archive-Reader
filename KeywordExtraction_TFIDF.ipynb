{
 "cells": [
  {
   "cell_type": "code",
   "execution_count": 35,
   "id": "2cf973b8",
   "metadata": {},
   "outputs": [
    {
     "name": "stdout",
     "output_type": "stream",
     "text": [
      "TF-IDF analysis completed. Results saved to cleaned_datasets/TD_IDF_Analysis_Output.txt\n"
     ]
    }
   ],
   "source": [
    "import os\n",
    "from sklearn.feature_extraction.text import TfidfVectorizer\n",
    "\n",
    "# Define file paths\n",
    "input_entities_file = \"cleaned_datasets/NER_output_entities.txt\"\n",
    "input_report_file = \"cleaned_datasets/cleaned_SUAS_final_report.txt\"\n",
    "output_file = \"cleaned_datasets/TD_IDF_Analysis_Output.txt\"\n",
    "\n",
    "# Read entities from input_entities_file\n",
    "entities = []\n",
    "with open(input_entities_file, 'r') as file:\n",
    "    for line in file:\n",
    "        entity = line.split(':')[1].strip().split(',')[0].strip().lower()\n",
    "        entities.append(entity)\n",
    "\n",
    "# Read cleaned report text\n",
    "with open(input_report_file, 'r') as file:\n",
    "    report_text = file.read().lower()  # Convert to lowercase\n",
    "\n",
    "# Tokenize the report text\n",
    "corpus = [report_text]\n",
    "\n",
    "# Calculate TF-IDF\n",
    "tfidf_vectorizer = TfidfVectorizer()\n",
    "tfidf_matrix = tfidf_vectorizer.fit_transform(corpus)\n",
    "\n",
    "# Write TF-IDF scores to output file\n",
    "with open(output_file, 'w') as file:\n",
    "    for entity in entities:\n",
    "        index = tfidf_vectorizer.vocabulary_.get(entity, None)\n",
    "        if index is not None:\n",
    "            tfidf_score = tfidf_matrix[0, index]\n",
    "            file.write(f\"Entity: {entity}, TF-IDF Score: {tfidf_score}\\n\")\n",
    "        else:\n",
    "            file.write(f\"Entity: {entity}, TF-IDF Score: Not Found\\n\")\n",
    "\n",
    "print(\"TF-IDF analysis completed. Results saved to\", output_file)\n"
   ]
  },
  {
   "cell_type": "code",
   "execution_count": null,
   "id": "5ba762df",
   "metadata": {},
   "outputs": [],
   "source": []
  },
  {
   "cell_type": "code",
   "execution_count": null,
   "id": "1bca5393",
   "metadata": {},
   "outputs": [],
   "source": []
  }
 ],
 "metadata": {
  "kernelspec": {
   "display_name": "Python 3 (ipykernel)",
   "language": "python",
   "name": "python3"
  },
  "language_info": {
   "codemirror_mode": {
    "name": "ipython",
    "version": 3
   },
   "file_extension": ".py",
   "mimetype": "text/x-python",
   "name": "python",
   "nbconvert_exporter": "python",
   "pygments_lexer": "ipython3",
   "version": "3.11.8"
  }
 },
 "nbformat": 4,
 "nbformat_minor": 5
}
